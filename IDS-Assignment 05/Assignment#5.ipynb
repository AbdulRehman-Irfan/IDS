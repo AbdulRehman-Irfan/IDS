{
 "cells": [
  {
   "cell_type": "markdown",
   "id": "bae19cb7",
   "metadata": {},
   "source": [
    "### FA19-BCS-034\n",
    "\n",
    "### Abdul Rehman\n",
    "\n",
    "### G2"
   ]
  },
  {
   "cell_type": "code",
   "execution_count": 1,
   "id": "6bdda553",
   "metadata": {},
   "outputs": [],
   "source": [
    "import warnings\n",
    "warnings.filterwarnings('ignore') # setting ignore as a parameter\n",
    "\n",
    "import numpy as np\n",
    "from sklearn.feature_extraction.text import CountVectorizer\n",
    "import pandas as pd"
   ]
  },
  {
   "cell_type": "code",
   "execution_count": 2,
   "id": "bc8ec713",
   "metadata": {},
   "outputs": [],
   "source": [
    "# Create sample set of documents\n",
    "S1 =\"sunshine state enjoy sunshine\"\n",
    "S2=\"brown fox jump high, brown fox run\"\n",
    "S3=\"sunshine state fox run fast\"\n",
    "\n",
    "docs = np.array([S1,S2,S3])"
   ]
  },
  {
   "cell_type": "code",
   "execution_count": 3,
   "id": "09a4911d",
   "metadata": {},
   "outputs": [
    {
     "data": {
      "text/plain": [
       "array(['sunshine state enjoy sunshine',\n",
       "       'brown fox jump high, brown fox run',\n",
       "       'sunshine state fox run fast'], dtype='<U34')"
      ]
     },
     "execution_count": 3,
     "metadata": {},
     "output_type": "execute_result"
    }
   ],
   "source": [
    "#print docs\n",
    "docs"
   ]
  },
  {
   "cell_type": "markdown",
   "id": "8f699988",
   "metadata": {},
   "source": [
    "# Question 1"
   ]
  },
  {
   "cell_type": "code",
   "execution_count": 4,
   "id": "21da482c",
   "metadata": {},
   "outputs": [],
   "source": [
    "vectorizer = CountVectorizer()"
   ]
  },
  {
   "cell_type": "code",
   "execution_count": 5,
   "id": "3f55283f",
   "metadata": {},
   "outputs": [
    {
     "name": "stdout",
     "output_type": "stream",
     "text": [
      "['brown', 'enjoy', 'fast', 'fox', 'high', 'jump', 'run', 'state', 'sunshine']\n"
     ]
    }
   ],
   "source": [
    "# Get unique words / tokens found in all the documents. The unique words / tokens represents\n",
    "# the features\n",
    "bag = vectorizer.fit_transform(docs)\n",
    "print(vectorizer.get_feature_names())\n"
   ]
  },
  {
   "cell_type": "code",
   "execution_count": 6,
   "id": "1437f684",
   "metadata": {},
   "outputs": [
    {
     "name": "stdout",
     "output_type": "stream",
     "text": [
      "{'sunshine': 8, 'state': 7, 'enjoy': 1, 'brown': 0, 'fox': 3, 'jump': 5, 'high': 4, 'run': 6, 'fast': 2}\n"
     ]
    }
   ],
   "source": [
    "# Associate the indices with each unique word\n",
    "print(vectorizer.vocabulary_)"
   ]
  },
  {
   "cell_type": "code",
   "execution_count": 7,
   "id": "1b026bf4",
   "metadata": {},
   "outputs": [
    {
     "name": "stdout",
     "output_type": "stream",
     "text": [
      "[[0 1 0 0 0 0 0 1 2]\n",
      " [2 0 0 2 1 1 1 0 0]\n",
      " [0 0 1 1 0 0 1 1 1]]\n"
     ]
    }
   ],
   "source": [
    "print(bag.toarray())"
   ]
  },
  {
   "cell_type": "markdown",
   "id": "c8ecfee9",
   "metadata": {},
   "source": [
    "#### Bag of words"
   ]
  },
  {
   "cell_type": "code",
   "execution_count": 8,
   "id": "d0dcc219",
   "metadata": {},
   "outputs": [
    {
     "data": {
      "text/html": [
       "<div>\n",
       "<style scoped>\n",
       "    .dataframe tbody tr th:only-of-type {\n",
       "        vertical-align: middle;\n",
       "    }\n",
       "\n",
       "    .dataframe tbody tr th {\n",
       "        vertical-align: top;\n",
       "    }\n",
       "\n",
       "    .dataframe thead th {\n",
       "        text-align: right;\n",
       "    }\n",
       "</style>\n",
       "<table border=\"1\" class=\"dataframe\">\n",
       "  <thead>\n",
       "    <tr style=\"text-align: right;\">\n",
       "      <th></th>\n",
       "      <th>brown</th>\n",
       "      <th>enjoy</th>\n",
       "      <th>fast</th>\n",
       "      <th>fox</th>\n",
       "      <th>high</th>\n",
       "      <th>jump</th>\n",
       "      <th>run</th>\n",
       "      <th>state</th>\n",
       "      <th>sunshine</th>\n",
       "    </tr>\n",
       "  </thead>\n",
       "  <tbody>\n",
       "    <tr>\n",
       "      <th>S1</th>\n",
       "      <td>0</td>\n",
       "      <td>1</td>\n",
       "      <td>0</td>\n",
       "      <td>0</td>\n",
       "      <td>0</td>\n",
       "      <td>0</td>\n",
       "      <td>0</td>\n",
       "      <td>1</td>\n",
       "      <td>2</td>\n",
       "    </tr>\n",
       "    <tr>\n",
       "      <th>S2</th>\n",
       "      <td>2</td>\n",
       "      <td>0</td>\n",
       "      <td>0</td>\n",
       "      <td>2</td>\n",
       "      <td>1</td>\n",
       "      <td>1</td>\n",
       "      <td>1</td>\n",
       "      <td>0</td>\n",
       "      <td>0</td>\n",
       "    </tr>\n",
       "    <tr>\n",
       "      <th>S3</th>\n",
       "      <td>0</td>\n",
       "      <td>0</td>\n",
       "      <td>1</td>\n",
       "      <td>1</td>\n",
       "      <td>0</td>\n",
       "      <td>0</td>\n",
       "      <td>1</td>\n",
       "      <td>1</td>\n",
       "      <td>1</td>\n",
       "    </tr>\n",
       "  </tbody>\n",
       "</table>\n",
       "</div>"
      ],
      "text/plain": [
       "    brown  enjoy  fast  fox  high  jump  run  state  sunshine\n",
       "S1      0      1     0    0     0     0    0      1         2\n",
       "S2      2      0     0    2     1     1    1      0         0\n",
       "S3      0      0     1    1     0     0    1      1         1"
      ]
     },
     "execution_count": 8,
     "metadata": {},
     "output_type": "execute_result"
    }
   ],
   "source": [
    "BOW = pd.DataFrame(bag.toarray(),index=['S1','S2','S3'],columns = vectorizer.get_feature_names())\n",
    "BOW"
   ]
  },
  {
   "cell_type": "code",
   "execution_count": 9,
   "id": "8b8bbe1f",
   "metadata": {},
   "outputs": [],
   "source": [
    "from sklearn.feature_extraction.text import TfidfVectorizer,TfidfTransformer"
   ]
  },
  {
   "cell_type": "code",
   "execution_count": 10,
   "id": "2bc8e072",
   "metadata": {},
   "outputs": [
    {
     "data": {
      "text/plain": [
       "<3x9 sparse matrix of type '<class 'numpy.float64'>'\n",
       "\twith 13 stored elements in Compressed Sparse Row format>"
      ]
     },
     "execution_count": 10,
     "metadata": {},
     "output_type": "execute_result"
    }
   ],
   "source": [
    "#calculating the term frequency\n",
    "tfidf_vectorizer = TfidfVectorizer(use_idf=False)\n",
    "tf = tfidf_vectorizer.fit_transform(docs)\n",
    "tf"
   ]
  },
  {
   "cell_type": "markdown",
   "id": "9b719b73",
   "metadata": {},
   "source": [
    "#### Term Frequency"
   ]
  },
  {
   "cell_type": "code",
   "execution_count": 11,
   "id": "03f0fc0a",
   "metadata": {},
   "outputs": [
    {
     "data": {
      "text/html": [
       "<div>\n",
       "<style scoped>\n",
       "    .dataframe tbody tr th:only-of-type {\n",
       "        vertical-align: middle;\n",
       "    }\n",
       "\n",
       "    .dataframe tbody tr th {\n",
       "        vertical-align: top;\n",
       "    }\n",
       "\n",
       "    .dataframe thead th {\n",
       "        text-align: right;\n",
       "    }\n",
       "</style>\n",
       "<table border=\"1\" class=\"dataframe\">\n",
       "  <thead>\n",
       "    <tr style=\"text-align: right;\">\n",
       "      <th></th>\n",
       "      <th>brown</th>\n",
       "      <th>enjoy</th>\n",
       "      <th>fast</th>\n",
       "      <th>fox</th>\n",
       "      <th>high</th>\n",
       "      <th>jump</th>\n",
       "      <th>run</th>\n",
       "      <th>state</th>\n",
       "      <th>sunshine</th>\n",
       "    </tr>\n",
       "  </thead>\n",
       "  <tbody>\n",
       "    <tr>\n",
       "      <th>S1</th>\n",
       "      <td>0.000000</td>\n",
       "      <td>0.408248</td>\n",
       "      <td>0.000000</td>\n",
       "      <td>0.000000</td>\n",
       "      <td>0.000000</td>\n",
       "      <td>0.000000</td>\n",
       "      <td>0.000000</td>\n",
       "      <td>0.408248</td>\n",
       "      <td>0.816497</td>\n",
       "    </tr>\n",
       "    <tr>\n",
       "      <th>S2</th>\n",
       "      <td>0.603023</td>\n",
       "      <td>0.000000</td>\n",
       "      <td>0.000000</td>\n",
       "      <td>0.603023</td>\n",
       "      <td>0.301511</td>\n",
       "      <td>0.301511</td>\n",
       "      <td>0.301511</td>\n",
       "      <td>0.000000</td>\n",
       "      <td>0.000000</td>\n",
       "    </tr>\n",
       "    <tr>\n",
       "      <th>S3</th>\n",
       "      <td>0.000000</td>\n",
       "      <td>0.000000</td>\n",
       "      <td>0.447214</td>\n",
       "      <td>0.447214</td>\n",
       "      <td>0.000000</td>\n",
       "      <td>0.000000</td>\n",
       "      <td>0.447214</td>\n",
       "      <td>0.447214</td>\n",
       "      <td>0.447214</td>\n",
       "    </tr>\n",
       "  </tbody>\n",
       "</table>\n",
       "</div>"
      ],
      "text/plain": [
       "       brown     enjoy      fast       fox      high      jump       run  \\\n",
       "S1  0.000000  0.408248  0.000000  0.000000  0.000000  0.000000  0.000000   \n",
       "S2  0.603023  0.000000  0.000000  0.603023  0.301511  0.301511  0.301511   \n",
       "S3  0.000000  0.000000  0.447214  0.447214  0.000000  0.000000  0.447214   \n",
       "\n",
       "       state  sunshine  \n",
       "S1  0.408248  0.816497  \n",
       "S2  0.000000  0.000000  \n",
       "S3  0.447214  0.447214  "
      ]
     },
     "execution_count": 11,
     "metadata": {},
     "output_type": "execute_result"
    }
   ],
   "source": [
    "tf_pd = pd.DataFrame(tf.toarray(),index=['S1','S2','S3'],columns = vectorizer.get_feature_names())\n",
    "tf_pd"
   ]
  },
  {
   "cell_type": "code",
   "execution_count": 12,
   "id": "200e34a4",
   "metadata": {},
   "outputs": [],
   "source": [
    "tfidf_vectorizers = TfidfVectorizer(use_idf=True)\n",
    "tfidf = tfidf_vectorizers.fit_transform(docs)"
   ]
  },
  {
   "cell_type": "markdown",
   "id": "58355de1",
   "metadata": {},
   "source": [
    "#### IDF"
   ]
  },
  {
   "cell_type": "code",
   "execution_count": 13,
   "id": "6b2cb16c",
   "metadata": {},
   "outputs": [
    {
     "data": {
      "text/html": [
       "<div>\n",
       "<style scoped>\n",
       "    .dataframe tbody tr th:only-of-type {\n",
       "        vertical-align: middle;\n",
       "    }\n",
       "\n",
       "    .dataframe tbody tr th {\n",
       "        vertical-align: top;\n",
       "    }\n",
       "\n",
       "    .dataframe thead th {\n",
       "        text-align: right;\n",
       "    }\n",
       "</style>\n",
       "<table border=\"1\" class=\"dataframe\">\n",
       "  <thead>\n",
       "    <tr style=\"text-align: right;\">\n",
       "      <th></th>\n",
       "      <th>feature_name</th>\n",
       "      <th>idf_weights</th>\n",
       "    </tr>\n",
       "  </thead>\n",
       "  <tbody>\n",
       "    <tr>\n",
       "      <th>0</th>\n",
       "      <td>brown</td>\n",
       "      <td>1.693147</td>\n",
       "    </tr>\n",
       "    <tr>\n",
       "      <th>1</th>\n",
       "      <td>enjoy</td>\n",
       "      <td>1.693147</td>\n",
       "    </tr>\n",
       "    <tr>\n",
       "      <th>2</th>\n",
       "      <td>fast</td>\n",
       "      <td>1.693147</td>\n",
       "    </tr>\n",
       "    <tr>\n",
       "      <th>3</th>\n",
       "      <td>fox</td>\n",
       "      <td>1.287682</td>\n",
       "    </tr>\n",
       "    <tr>\n",
       "      <th>4</th>\n",
       "      <td>high</td>\n",
       "      <td>1.693147</td>\n",
       "    </tr>\n",
       "    <tr>\n",
       "      <th>5</th>\n",
       "      <td>jump</td>\n",
       "      <td>1.693147</td>\n",
       "    </tr>\n",
       "    <tr>\n",
       "      <th>6</th>\n",
       "      <td>run</td>\n",
       "      <td>1.287682</td>\n",
       "    </tr>\n",
       "    <tr>\n",
       "      <th>7</th>\n",
       "      <td>state</td>\n",
       "      <td>1.287682</td>\n",
       "    </tr>\n",
       "    <tr>\n",
       "      <th>8</th>\n",
       "      <td>sunshine</td>\n",
       "      <td>1.287682</td>\n",
       "    </tr>\n",
       "  </tbody>\n",
       "</table>\n",
       "</div>"
      ],
      "text/plain": [
       "  feature_name  idf_weights\n",
       "0        brown     1.693147\n",
       "1        enjoy     1.693147\n",
       "2         fast     1.693147\n",
       "3          fox     1.287682\n",
       "4         high     1.693147\n",
       "5         jump     1.693147\n",
       "6          run     1.287682\n",
       "7        state     1.287682\n",
       "8     sunshine     1.287682"
      ]
     },
     "execution_count": 13,
     "metadata": {},
     "output_type": "execute_result"
    }
   ],
   "source": [
    "#print idf\n",
    "idf = pd.DataFrame({'feature_name':vectorizer.get_feature_names(), 'idf_weights':tfidf_vectorizers.idf_})\n",
    "idf"
   ]
  },
  {
   "cell_type": "markdown",
   "id": "b81621e4",
   "metadata": {},
   "source": [
    "#### TF-IDF"
   ]
  },
  {
   "cell_type": "code",
   "execution_count": 14,
   "id": "9de0e521",
   "metadata": {},
   "outputs": [
    {
     "data": {
      "text/html": [
       "<div>\n",
       "<style scoped>\n",
       "    .dataframe tbody tr th:only-of-type {\n",
       "        vertical-align: middle;\n",
       "    }\n",
       "\n",
       "    .dataframe tbody tr th {\n",
       "        vertical-align: top;\n",
       "    }\n",
       "\n",
       "    .dataframe thead th {\n",
       "        text-align: right;\n",
       "    }\n",
       "</style>\n",
       "<table border=\"1\" class=\"dataframe\">\n",
       "  <thead>\n",
       "    <tr style=\"text-align: right;\">\n",
       "      <th></th>\n",
       "      <th>brown</th>\n",
       "      <th>enjoy</th>\n",
       "      <th>fast</th>\n",
       "      <th>fox</th>\n",
       "      <th>high</th>\n",
       "      <th>jump</th>\n",
       "      <th>run</th>\n",
       "      <th>state</th>\n",
       "      <th>sunshine</th>\n",
       "    </tr>\n",
       "  </thead>\n",
       "  <tbody>\n",
       "    <tr>\n",
       "      <th>S1</th>\n",
       "      <td>0.000000</td>\n",
       "      <td>0.50689</td>\n",
       "      <td>0.000000</td>\n",
       "      <td>0.000000</td>\n",
       "      <td>0.000000</td>\n",
       "      <td>0.000000</td>\n",
       "      <td>0.000000</td>\n",
       "      <td>0.385503</td>\n",
       "      <td>0.771006</td>\n",
       "    </tr>\n",
       "    <tr>\n",
       "      <th>S2</th>\n",
       "      <td>0.670703</td>\n",
       "      <td>0.00000</td>\n",
       "      <td>0.000000</td>\n",
       "      <td>0.510087</td>\n",
       "      <td>0.335352</td>\n",
       "      <td>0.335352</td>\n",
       "      <td>0.255044</td>\n",
       "      <td>0.000000</td>\n",
       "      <td>0.000000</td>\n",
       "    </tr>\n",
       "    <tr>\n",
       "      <th>S3</th>\n",
       "      <td>0.000000</td>\n",
       "      <td>0.00000</td>\n",
       "      <td>0.549351</td>\n",
       "      <td>0.417796</td>\n",
       "      <td>0.000000</td>\n",
       "      <td>0.000000</td>\n",
       "      <td>0.417796</td>\n",
       "      <td>0.417796</td>\n",
       "      <td>0.417796</td>\n",
       "    </tr>\n",
       "  </tbody>\n",
       "</table>\n",
       "</div>"
      ],
      "text/plain": [
       "       brown    enjoy      fast       fox      high      jump       run  \\\n",
       "S1  0.000000  0.50689  0.000000  0.000000  0.000000  0.000000  0.000000   \n",
       "S2  0.670703  0.00000  0.000000  0.510087  0.335352  0.335352  0.255044   \n",
       "S3  0.000000  0.00000  0.549351  0.417796  0.000000  0.000000  0.417796   \n",
       "\n",
       "       state  sunshine  \n",
       "S1  0.385503  0.771006  \n",
       "S2  0.000000  0.000000  \n",
       "S3  0.417796  0.417796  "
      ]
     },
     "execution_count": 14,
     "metadata": {},
     "output_type": "execute_result"
    }
   ],
   "source": [
    "#print tfidf\n",
    "tfidf_pd = pd.DataFrame(tfidf.toarray(),index=['S1','S2','S3'],columns = vectorizer.get_feature_names())\n",
    "tfidf_pd"
   ]
  },
  {
   "cell_type": "markdown",
   "id": "cd03e940",
   "metadata": {},
   "source": [
    "# Question 2"
   ]
  },
  {
   "cell_type": "code",
   "execution_count": 15,
   "id": "aa721847",
   "metadata": {},
   "outputs": [],
   "source": [
    "from sklearn.metrics.pairwise import cosine_similarity"
   ]
  },
  {
   "cell_type": "markdown",
   "id": "859f195f",
   "metadata": {},
   "source": [
    "#### Taking TF vector"
   ]
  },
  {
   "cell_type": "code",
   "execution_count": 16,
   "id": "20b728ba",
   "metadata": {},
   "outputs": [],
   "source": [
    "get = tf.toarray()"
   ]
  },
  {
   "cell_type": "code",
   "execution_count": 17,
   "id": "d3629843",
   "metadata": {},
   "outputs": [
    {
     "data": {
      "text/plain": [
       "array([[0.        , 0.40824829, 0.        , 0.        , 0.        ,\n",
       "        0.        , 0.        , 0.40824829, 0.81649658],\n",
       "       [0.60302269, 0.        , 0.        , 0.60302269, 0.30151134,\n",
       "        0.30151134, 0.30151134, 0.        , 0.        ],\n",
       "       [0.        , 0.        , 0.4472136 , 0.4472136 , 0.        ,\n",
       "        0.        , 0.4472136 , 0.4472136 , 0.4472136 ]])"
      ]
     },
     "execution_count": 17,
     "metadata": {},
     "output_type": "execute_result"
    }
   ],
   "source": [
    "get"
   ]
  },
  {
   "cell_type": "markdown",
   "id": "8a8da957",
   "metadata": {},
   "source": [
    "### Cosine Similarity Between S1 and S3"
   ]
  },
  {
   "cell_type": "code",
   "execution_count": 18,
   "id": "01cdc1be",
   "metadata": {},
   "outputs": [
    {
     "name": "stdout",
     "output_type": "stream",
     "text": [
      "[[0.54772256]]\n"
     ]
    }
   ],
   "source": [
    "print(cosine_similarity([get[0]], [get[2]]))\n"
   ]
  },
  {
   "cell_type": "code",
   "execution_count": null,
   "id": "773c0c50",
   "metadata": {},
   "outputs": [],
   "source": []
  }
 ],
 "metadata": {
  "kernelspec": {
   "display_name": "Python 3 (ipykernel)",
   "language": "python",
   "name": "python3"
  },
  "language_info": {
   "codemirror_mode": {
    "name": "ipython",
    "version": 3
   },
   "file_extension": ".py",
   "mimetype": "text/x-python",
   "name": "python",
   "nbconvert_exporter": "python",
   "pygments_lexer": "ipython3",
   "version": "3.9.12"
  }
 },
 "nbformat": 4,
 "nbformat_minor": 5
}
