{
 "cells": [
  {
   "cell_type": "markdown",
   "id": "5009dfa0",
   "metadata": {},
   "source": [
    "## FA19-BCS-034\n",
    "## Abdul Rehman\n",
    "## G-2"
   ]
  },
  {
   "cell_type": "code",
   "execution_count": 2,
   "id": "6c7a38bd",
   "metadata": {},
   "outputs": [],
   "source": [
    "#load important libraries\n",
    "import matplotlib.pyplot as plt\n",
    "import numpy as np\n",
    "import pandas as pd\n",
    "import seaborn as sns\n",
    "import re\n",
    "import numpy as np"
   ]
  },
  {
   "cell_type": "code",
   "execution_count": 3,
   "id": "fe7bf988",
   "metadata": {
    "scrolled": true
   },
   "outputs": [
    {
     "data": {
      "text/html": [
       "<div>\n",
       "<style scoped>\n",
       "    .dataframe tbody tr th:only-of-type {\n",
       "        vertical-align: middle;\n",
       "    }\n",
       "\n",
       "    .dataframe tbody tr th {\n",
       "        vertical-align: top;\n",
       "    }\n",
       "\n",
       "    .dataframe thead th {\n",
       "        text-align: right;\n",
       "    }\n",
       "</style>\n",
       "<table border=\"1\" class=\"dataframe\">\n",
       "  <thead>\n",
       "    <tr style=\"text-align: right;\">\n",
       "      <th></th>\n",
       "      <th>Name</th>\n",
       "      <th>Gender</th>\n",
       "      <th>HSSC-1</th>\n",
       "      <th>HSSC-2</th>\n",
       "      <th>CGPA</th>\n",
       "      <th>FavoriteColor</th>\n",
       "      <th>BirthMonth</th>\n",
       "      <th>Weight</th>\n",
       "    </tr>\n",
       "  </thead>\n",
       "  <tbody>\n",
       "    <tr>\n",
       "      <th>0</th>\n",
       "      <td>Muhammad Usman</td>\n",
       "      <td>Male</td>\n",
       "      <td>440</td>\n",
       "      <td>369</td>\n",
       "      <td>2.80</td>\n",
       "      <td>Black</td>\n",
       "      <td>March</td>\n",
       "      <td>77.0</td>\n",
       "    </tr>\n",
       "    <tr>\n",
       "      <th>1</th>\n",
       "      <td>Taha Ishfaq</td>\n",
       "      <td>Male</td>\n",
       "      <td>415</td>\n",
       "      <td>408</td>\n",
       "      <td>2.73</td>\n",
       "      <td>Red</td>\n",
       "      <td>March</td>\n",
       "      <td>72.0</td>\n",
       "    </tr>\n",
       "    <tr>\n",
       "      <th>2</th>\n",
       "      <td>Muhammad Hamdan</td>\n",
       "      <td>Male</td>\n",
       "      <td>388</td>\n",
       "      <td>321</td>\n",
       "      <td>2.78</td>\n",
       "      <td>Black</td>\n",
       "      <td>October</td>\n",
       "      <td>53.0</td>\n",
       "    </tr>\n",
       "    <tr>\n",
       "      <th>3</th>\n",
       "      <td>Syeda Maham Gillani</td>\n",
       "      <td>Female</td>\n",
       "      <td>412</td>\n",
       "      <td>440</td>\n",
       "      <td>3.11</td>\n",
       "      <td>Blue</td>\n",
       "      <td>February</td>\n",
       "      <td>63.0</td>\n",
       "    </tr>\n",
       "    <tr>\n",
       "      <th>4</th>\n",
       "      <td>Umar Wasim</td>\n",
       "      <td>Male</td>\n",
       "      <td>364</td>\n",
       "      <td>469</td>\n",
       "      <td>2.42</td>\n",
       "      <td>black</td>\n",
       "      <td>October</td>\n",
       "      <td>80.0</td>\n",
       "    </tr>\n",
       "    <tr>\n",
       "      <th>...</th>\n",
       "      <td>...</td>\n",
       "      <td>...</td>\n",
       "      <td>...</td>\n",
       "      <td>...</td>\n",
       "      <td>...</td>\n",
       "      <td>...</td>\n",
       "      <td>...</td>\n",
       "      <td>...</td>\n",
       "    </tr>\n",
       "    <tr>\n",
       "      <th>129</th>\n",
       "      <td>M Abubakar Malik</td>\n",
       "      <td>Male</td>\n",
       "      <td>410</td>\n",
       "      <td>349</td>\n",
       "      <td>2.94</td>\n",
       "      <td>Blue</td>\n",
       "      <td>Feburary</td>\n",
       "      <td>65.0</td>\n",
       "    </tr>\n",
       "    <tr>\n",
       "      <th>130</th>\n",
       "      <td>Muhammad Ali</td>\n",
       "      <td>Male</td>\n",
       "      <td>403</td>\n",
       "      <td>390</td>\n",
       "      <td>2.52</td>\n",
       "      <td>Yellow</td>\n",
       "      <td>October</td>\n",
       "      <td>81.0</td>\n",
       "    </tr>\n",
       "    <tr>\n",
       "      <th>131</th>\n",
       "      <td>shafaqat ali</td>\n",
       "      <td>Male</td>\n",
       "      <td>424</td>\n",
       "      <td>824</td>\n",
       "      <td>3.07</td>\n",
       "      <td>Black</td>\n",
       "      <td>May</td>\n",
       "      <td>58.0</td>\n",
       "    </tr>\n",
       "    <tr>\n",
       "      <th>132</th>\n",
       "      <td>Ammar Asif</td>\n",
       "      <td>Male</td>\n",
       "      <td>351</td>\n",
       "      <td>423</td>\n",
       "      <td>2.52</td>\n",
       "      <td>Black</td>\n",
       "      <td>December</td>\n",
       "      <td>68.0</td>\n",
       "    </tr>\n",
       "    <tr>\n",
       "      <th>133</th>\n",
       "      <td>Muhammad Zubair</td>\n",
       "      <td>Male</td>\n",
       "      <td>361</td>\n",
       "      <td>335</td>\n",
       "      <td>2.81</td>\n",
       "      <td>Black</td>\n",
       "      <td>March</td>\n",
       "      <td>58.0</td>\n",
       "    </tr>\n",
       "  </tbody>\n",
       "</table>\n",
       "<p>134 rows × 8 columns</p>\n",
       "</div>"
      ],
      "text/plain": [
       "                    Name  Gender  HSSC-1  HSSC-2  CGPA FavoriteColor  \\\n",
       "0         Muhammad Usman    Male     440     369  2.80         Black   \n",
       "1            Taha Ishfaq    Male     415     408  2.73           Red   \n",
       "2        Muhammad Hamdan    Male     388     321  2.78         Black   \n",
       "3    Syeda Maham Gillani  Female     412     440  3.11          Blue   \n",
       "4             Umar Wasim    Male     364     469  2.42         black   \n",
       "..                   ...     ...     ...     ...   ...           ...   \n",
       "129     M Abubakar Malik    Male     410     349  2.94          Blue   \n",
       "130         Muhammad Ali    Male     403     390  2.52        Yellow   \n",
       "131         shafaqat ali    Male     424     824  3.07         Black   \n",
       "132          Ammar Asif     Male     351     423  2.52         Black   \n",
       "133      Muhammad Zubair    Male     361     335  2.81         Black   \n",
       "\n",
       "    BirthMonth  Weight  \n",
       "0        March    77.0  \n",
       "1        March    72.0  \n",
       "2      October    53.0  \n",
       "3     February    63.0  \n",
       "4     October     80.0  \n",
       "..         ...     ...  \n",
       "129   Feburary    65.0  \n",
       "130    October    81.0  \n",
       "131        May    58.0  \n",
       "132  December     68.0  \n",
       "133      March    58.0  \n",
       "\n",
       "[134 rows x 8 columns]"
      ]
     },
     "execution_count": 3,
     "metadata": {},
     "output_type": "execute_result"
    }
   ],
   "source": [
    "# reading data set \n",
    "path = \"./the-hello-dataset-fa22.csv\"\n",
    "df = pd.read_csv(path)\n",
    "df "
   ]
  },
  {
   "cell_type": "markdown",
   "id": "85fd20e8",
   "metadata": {},
   "source": [
    "# Normalization"
   ]
  },
  {
   "cell_type": "code",
   "execution_count": 42,
   "id": "86b6816b",
   "metadata": {},
   "outputs": [
    {
     "data": {
      "text/html": [
       "<div>\n",
       "<style scoped>\n",
       "    .dataframe tbody tr th:only-of-type {\n",
       "        vertical-align: middle;\n",
       "    }\n",
       "\n",
       "    .dataframe tbody tr th {\n",
       "        vertical-align: top;\n",
       "    }\n",
       "\n",
       "    .dataframe thead th {\n",
       "        text-align: right;\n",
       "    }\n",
       "</style>\n",
       "<table border=\"1\" class=\"dataframe\">\n",
       "  <thead>\n",
       "    <tr style=\"text-align: right;\">\n",
       "      <th></th>\n",
       "      <th>Name</th>\n",
       "      <th>Gender</th>\n",
       "      <th>HSSC-1</th>\n",
       "      <th>HSSC-2</th>\n",
       "      <th>CGPA</th>\n",
       "      <th>FavoriteColor</th>\n",
       "      <th>BirthMonth</th>\n",
       "      <th>Weight</th>\n",
       "    </tr>\n",
       "  </thead>\n",
       "  <tbody>\n",
       "    <tr>\n",
       "      <th>0</th>\n",
       "      <td>Muhammad Usman</td>\n",
       "      <td>Male</td>\n",
       "      <td>440</td>\n",
       "      <td>369</td>\n",
       "      <td>2.80</td>\n",
       "      <td>Black</td>\n",
       "      <td>March</td>\n",
       "      <td>77.0</td>\n",
       "    </tr>\n",
       "    <tr>\n",
       "      <th>1</th>\n",
       "      <td>Taha Ishfaq</td>\n",
       "      <td>Male</td>\n",
       "      <td>415</td>\n",
       "      <td>408</td>\n",
       "      <td>2.73</td>\n",
       "      <td>Red</td>\n",
       "      <td>March</td>\n",
       "      <td>72.0</td>\n",
       "    </tr>\n",
       "    <tr>\n",
       "      <th>2</th>\n",
       "      <td>Muhammad Hamdan</td>\n",
       "      <td>Male</td>\n",
       "      <td>388</td>\n",
       "      <td>321</td>\n",
       "      <td>2.78</td>\n",
       "      <td>Black</td>\n",
       "      <td>October</td>\n",
       "      <td>53.0</td>\n",
       "    </tr>\n",
       "    <tr>\n",
       "      <th>3</th>\n",
       "      <td>Syeda Maham Gillani</td>\n",
       "      <td>Female</td>\n",
       "      <td>412</td>\n",
       "      <td>440</td>\n",
       "      <td>3.11</td>\n",
       "      <td>Blue</td>\n",
       "      <td>February</td>\n",
       "      <td>63.0</td>\n",
       "    </tr>\n",
       "    <tr>\n",
       "      <th>4</th>\n",
       "      <td>Umar Wasim</td>\n",
       "      <td>Male</td>\n",
       "      <td>364</td>\n",
       "      <td>469</td>\n",
       "      <td>2.42</td>\n",
       "      <td>black</td>\n",
       "      <td>October</td>\n",
       "      <td>80.0</td>\n",
       "    </tr>\n",
       "    <tr>\n",
       "      <th>...</th>\n",
       "      <td>...</td>\n",
       "      <td>...</td>\n",
       "      <td>...</td>\n",
       "      <td>...</td>\n",
       "      <td>...</td>\n",
       "      <td>...</td>\n",
       "      <td>...</td>\n",
       "      <td>...</td>\n",
       "    </tr>\n",
       "    <tr>\n",
       "      <th>129</th>\n",
       "      <td>M Abubakar Malik</td>\n",
       "      <td>Male</td>\n",
       "      <td>410</td>\n",
       "      <td>349</td>\n",
       "      <td>2.94</td>\n",
       "      <td>Blue</td>\n",
       "      <td>Feburary</td>\n",
       "      <td>65.0</td>\n",
       "    </tr>\n",
       "    <tr>\n",
       "      <th>130</th>\n",
       "      <td>Muhammad Ali</td>\n",
       "      <td>Male</td>\n",
       "      <td>403</td>\n",
       "      <td>390</td>\n",
       "      <td>2.52</td>\n",
       "      <td>Yellow</td>\n",
       "      <td>October</td>\n",
       "      <td>81.0</td>\n",
       "    </tr>\n",
       "    <tr>\n",
       "      <th>131</th>\n",
       "      <td>Shafaqat Ali</td>\n",
       "      <td>Male</td>\n",
       "      <td>424</td>\n",
       "      <td>824</td>\n",
       "      <td>3.07</td>\n",
       "      <td>Black</td>\n",
       "      <td>May</td>\n",
       "      <td>58.0</td>\n",
       "    </tr>\n",
       "    <tr>\n",
       "      <th>132</th>\n",
       "      <td>Ammar Asif</td>\n",
       "      <td>Male</td>\n",
       "      <td>351</td>\n",
       "      <td>423</td>\n",
       "      <td>2.52</td>\n",
       "      <td>Black</td>\n",
       "      <td>December</td>\n",
       "      <td>68.0</td>\n",
       "    </tr>\n",
       "    <tr>\n",
       "      <th>133</th>\n",
       "      <td>Muhammad Zubair</td>\n",
       "      <td>Male</td>\n",
       "      <td>361</td>\n",
       "      <td>335</td>\n",
       "      <td>2.81</td>\n",
       "      <td>Black</td>\n",
       "      <td>March</td>\n",
       "      <td>58.0</td>\n",
       "    </tr>\n",
       "  </tbody>\n",
       "</table>\n",
       "<p>134 rows × 8 columns</p>\n",
       "</div>"
      ],
      "text/plain": [
       "                    Name  Gender  HSSC-1  HSSC-2  CGPA FavoriteColor  \\\n",
       "0         Muhammad Usman    Male     440     369  2.80         Black   \n",
       "1            Taha Ishfaq    Male     415     408  2.73           Red   \n",
       "2        Muhammad Hamdan    Male     388     321  2.78         Black   \n",
       "3    Syeda Maham Gillani  Female     412     440  3.11          Blue   \n",
       "4             Umar Wasim    Male     364     469  2.42         black   \n",
       "..                   ...     ...     ...     ...   ...           ...   \n",
       "129     M Abubakar Malik    Male     410     349  2.94          Blue   \n",
       "130         Muhammad Ali    Male     403     390  2.52        Yellow   \n",
       "131         Shafaqat Ali    Male     424     824  3.07         Black   \n",
       "132           Ammar Asif    Male     351     423  2.52         Black   \n",
       "133      Muhammad Zubair    Male     361     335  2.81         Black   \n",
       "\n",
       "    BirthMonth  Weight  \n",
       "0        March    77.0  \n",
       "1        March    72.0  \n",
       "2      October    53.0  \n",
       "3     February    63.0  \n",
       "4     October     80.0  \n",
       "..         ...     ...  \n",
       "129   Feburary    65.0  \n",
       "130    October    81.0  \n",
       "131        May    58.0  \n",
       "132  December     68.0  \n",
       "133      March    58.0  \n",
       "\n",
       "[134 rows x 8 columns]"
      ]
     },
     "execution_count": 42,
     "metadata": {},
     "output_type": "execute_result"
    }
   ],
   "source": [
    "# Capitalising first letter of each value in name column \n",
    "# removing or truncating spaces from the beginning and the end of the original string.\n",
    "df['Name'] = df['Name'].str.title()\n",
    "df['Name'] = df['Name'].str.strip()\n",
    "df"
   ]
  },
  {
   "cell_type": "markdown",
   "id": "5eb0ba30",
   "metadata": {},
   "source": [
    "### Cleaning Marks"
   ]
  },
  {
   "cell_type": "code",
   "execution_count": 43,
   "id": "dfdd0e25",
   "metadata": {},
   "outputs": [],
   "source": [
    "df.loc[df['HSSC-1'] >= 550, 'HSSC-1'] = df['HSSC-1']/2\n",
    "df.loc[df['HSSC-2'] >= 550, 'HSSC-2'] = df['HSSC-2']/2\n",
    "\n",
    "    "
   ]
  },
  {
   "cell_type": "markdown",
   "id": "f1f4265c",
   "metadata": {},
   "source": [
    "## Cleaning Favorite Column"
   ]
  },
  {
   "cell_type": "code",
   "execution_count": 44,
   "id": "314000d3",
   "metadata": {},
   "outputs": [
    {
     "data": {
      "text/plain": [
       "Black             46\n",
       "Blue              24\n",
       "Yellow            11\n",
       "Red               10\n",
       "Green              8\n",
       "White              5\n",
       "Pink               4\n",
       "Navy Blue          4\n",
       "Light Green        4\n",
       "Orange             4\n",
       "Peach              3\n",
       "Purple             3\n",
       "Dark Blue          3\n",
       "Gray And Brown     2\n",
       "Mustard            1\n",
       "Brown              1\n",
       "Grey               1\n",
       "Name: FavoriteColor, dtype: int64"
      ]
     },
     "execution_count": 44,
     "metadata": {},
     "output_type": "execute_result"
    }
   ],
   "source": [
    "# Capitalising first letter of each value in FavoriteColor column \n",
    "# removing or truncating spaces from the beginning and the end of the original string.\n",
    "df['FavoriteColor'] = df['FavoriteColor'].str.strip()\n",
    "df['FavoriteColor'] = df['FavoriteColor'].str.title()\n",
    "df['FavoriteColor'].value_counts()"
   ]
  },
  {
   "cell_type": "markdown",
   "id": "29c0383e",
   "metadata": {},
   "source": [
    "## Cleaning BirthMonth Column"
   ]
  },
  {
   "cell_type": "code",
   "execution_count": 45,
   "id": "a8d996c3",
   "metadata": {},
   "outputs": [],
   "source": [
    "# Capitalising first letter of each value in BirthMonth column \n",
    "# removing or truncating spaces from the beginning and the end of the original string.\n",
    "# Replacing a wrong month name with correct one\n",
    "df['BirthMonth'] = df['BirthMonth'].str.strip()\n",
    "df['BirthMonth'] = df['BirthMonth'].str.title()\n",
    "df['BirthMonth'] = df['BirthMonth'].str.replace('Feburary','February')\n"
   ]
  },
  {
   "cell_type": "markdown",
   "id": "230304a5",
   "metadata": {},
   "source": [
    "### Print the list of all students whose first name starts with letter the 'H'."
   ]
  },
  {
   "cell_type": "code",
   "execution_count": 46,
   "id": "9fab61f4",
   "metadata": {},
   "outputs": [
    {
     "name": "stdout",
     "output_type": "stream",
     "text": [
      "Hamza Naveed\n",
      "Habib Ullah\n",
      "Hunain Javed\n",
      "Hafiz Malahim Labib.\n",
      "Hamna Tariq Saleemi\n",
      "Hina\n",
      "Hamza Javed Khan\n",
      "Husnain Ahmed\n",
      "Hamayoun Masroor\n",
      "Hussain Afzal\n"
     ]
    }
   ],
   "source": [
    "for name in df['Name']:\n",
    "    result = re.match(\"^H\",name)\n",
    "    if result != None:\n",
    "        print(name)"
   ]
  },
  {
   "cell_type": "markdown",
   "id": "932e912b",
   "metadata": {},
   "source": [
    "### Print the total number of students who have a three words name (first-middle-surname)."
   ]
  },
  {
   "cell_type": "code",
   "execution_count": 47,
   "id": "b42cebdf",
   "metadata": {},
   "outputs": [
    {
     "name": "stdout",
     "output_type": "stream",
     "text": [
      "Syeda Maham Gillani\n",
      "Shahzada Mujahid Raza\n",
      "Muhammad Subhan Khan\n",
      "Sarmad Waheed Ahmed\n",
      "M Hassaan Lateef\n",
      "Ahmed Amjad Dar\n",
      "Muhammad Ibrahim Khalil\n",
      "Muhammad Saim Jamil\n",
      "Ahmar Hafeez Khan\n",
      "Muhammad Umar Asghar\n",
      "Muhammad Haider Awan\n",
      "Muhammad Ammar Khalid\n",
      "Osama Nadeem Khan\n",
      "Muhammad Hashir Azeem\n",
      "Muhammad Aun Raza\n",
      "Hamna Tariq Saleemi\n",
      "Bashara Tehseen Liaqat\n",
      "Muhammad Hammad Ejaz\n",
      "Muhammad Saif Ullah\n",
      "Muhammad Al Fahad\n",
      "Abdul Hadi Khan\n",
      "Hamza Javed Khan\n",
      "Ghulam Mustafa Shiekh\n",
      "Muhammad Azeem Shoukat\n",
      "Muhammad Nouman Tahir\n",
      "Muhammad Huzaifa Jawad\n",
      "Noor Tariq Rana\n",
      "Muhammad Asadullah Rind\n",
      "Muhammad Talha Saeed\n",
      "Muhammad Bilal Aslam\n",
      "Syed Ali Mehdi\n",
      "Aftab Ahmad Khan\n",
      "Syed Zain Raza\n",
      "Muhammad Umair Tariq\n",
      "M Abubakar Malik\n",
      "Total Student having three word name: 35\n"
     ]
    }
   ],
   "source": [
    "ThreeWordCounter =0\n",
    "for name in df['Name']: \n",
    "    result = re.match(r\"^[a-zA-Z]+ [A-Za-z]+ [A-Za-z]+$\",name.strip())\n",
    "    if result:\n",
    "        ThreeWordCounter += 1;\n",
    "        print(name)\n",
    "print(\"Total Student having three word name:\",ThreeWordCounter)"
   ]
  },
  {
   "cell_type": "markdown",
   "id": "7878ac68",
   "metadata": {},
   "source": [
    "### Print the percentage of students who have a CGPA of 3.0 or above"
   ]
  },
  {
   "cell_type": "code",
   "execution_count": 48,
   "id": "179c4e79",
   "metadata": {},
   "outputs": [
    {
     "name": "stdout",
     "output_type": "stream",
     "text": [
      "The percentage of student having cgpa > 3.0: \n",
      "28.36%\n"
     ]
    }
   ],
   "source": [
    "RequiredCounter =0\n",
    "Total =0\n",
    "for cgpa in df['CGPA']:\n",
    "    if cgpa >= 3.00:\n",
    "        RequiredCounter += 1\n",
    "for students in df['Name']:\n",
    "    Total +=1\n",
    "\n",
    "Percent = RequiredCounter/Total *100\n",
    "print(\"The percentage of student having cgpa > 3.0: \")\n",
    "print('%.2f'% Percent +'%')\n"
   ]
  },
  {
   "cell_type": "markdown",
   "id": "71849ed2",
   "metadata": {},
   "source": [
    "### Plot a pie chart to show the ratio of male and female students."
   ]
  },
  {
   "cell_type": "code",
   "execution_count": 49,
   "id": "6f1f4663",
   "metadata": {},
   "outputs": [
    {
     "data": {
      "image/png": "[encoded data removed]",
      "text/plain": [
       "<Figure size 432x288 with 1 Axes>"
      ]
     },
     "metadata": {},
     "output_type": "display_data"
    }
   ],
   "source": [
    "NumberOfFemale=0\n",
    "NumberOfMale =0\n",
    "for gender in df['Gender']:\n",
    "    if gender == 'Female':\n",
    "        NumberOfFemale +=1\n",
    "    else:\n",
    "        NumberOfMale +=1\n",
    "#pie chart \n",
    "gender = ['Male', 'Female']\n",
    "data = [NumberOfMale,NumberOfFemale]\n",
    "colors = ( \"cornflowerblue\", \"deeppink\")\n",
    "plt.pie(data, labels = gender, autopct='%1.1f%%', colors = colors)\n",
    "plt.show()"
   ]
  },
  {
   "cell_type": "markdown",
   "id": "f1c1a976",
   "metadata": {},
   "source": [
    "###  Plot the CGPA of all male students on a histogram with intervals 2.0-2.5, 2.6-3.0, 3.1-3.5, 3.6-4.0."
   ]
  },
  {
   "cell_type": "code",
   "execution_count": 53,
   "id": "cfcc978d",
   "metadata": {},
   "outputs": [
    {
     "data": {
      "image/png": "[encoded data removed]",
      "text/plain": [
       "<Figure size 432x288 with 1 Axes>"
      ]
     },
     "metadata": {
      "needs_background": "light"
     },
     "output_type": "display_data"
    }
   ],
   "source": [
    "#histogram\n",
    "#The given intervals are in inclusive form. I make them exclusive(1.95,2.55,3.05,3.55,4.05) but we start with 2 and end at 4.\n",
    "MaleStudentRecord = df.loc[df[\"Gender\"]==\"Male\"]\n",
    "\n",
    "plt.hist(x = MaleStudentRecord.CGPA,bins=[2,2.55,3.05,3.55,4])\n",
    "plt.show()"
   ]
  },
  {
   "cell_type": "markdown",
   "id": "8cc0b000",
   "metadata": {},
   "source": [
    "###  Plot the HSSC-1 marks of all male vs female students on a scatter plot"
   ]
  },
  {
   "cell_type": "code",
   "execution_count": 54,
   "id": "fd7df1da",
   "metadata": {},
   "outputs": [
    {
     "data": {
      "image/png": "[encoded data removed]",
      "text/plain": [
       "<Figure size 2160x576 with 1 Axes>"
      ]
     },
     "metadata": {
      "needs_background": "light"
     },
     "output_type": "display_data"
    }
   ],
   "source": [
    "# on x-axis, there is marks obtained by students.\n",
    "# on y-axis, gender of students who got the marks.\n",
    "Males = df.loc[df[\"Gender\"]==\"Male\"]\n",
    "Females = df.loc[df[\"Gender\"]==\"Female\"]\n",
    "Males_grades = list(Males['HSSC-1'])\n",
    "Females_grades = list(Females['HSSC-1'])\n",
    "\n",
    "\n",
    "range_males = list(Males.Gender)\n",
    "range_females = list(Females.Gender)\n",
    "\n",
    "plt.figure(figsize = (30,8))\n",
    "plt.scatter(Males_grades, range_males, marker='o')\n",
    "plt.scatter(Females_grades, range_females, marker='x')\n",
    "\n",
    "plt.xlabel('Marks Scored', fontsize=16)\n",
    "plt.ylabel('Gender', fontsize=16)\n",
    "plt.show()"
   ]
  },
  {
   "cell_type": "markdown",
   "id": "a0b79759",
   "metadata": {},
   "source": [
    "### Plot the favorite colors of male vs female students on a bar chart."
   ]
  },
  {
   "cell_type": "code",
   "execution_count": 55,
   "id": "3433efb8",
   "metadata": {},
   "outputs": [
    {
     "data": {
      "image/png": "[encoded data removed]",
      "text/plain": [
       "<Figure size 1800x432 with 1 Axes>"
      ]
     },
     "metadata": {
      "needs_background": "light"
     },
     "output_type": "display_data"
    }
   ],
   "source": [
    "Males = df.loc[df[\"Gender\"]==\"Male\"]\n",
    "Females = df.loc[df[\"Gender\"]==\"Female\"]\n",
    "\n",
    "\n",
    "MaleColorsList=list(Males.FavoriteColor.value_counts().index) #saving unique colors present in male student FavoriteColor Column \n",
    "MaleCounterColor = list(Males.FavoriteColor.value_counts().values) #count how much person have same favorite color in male student FavoriteColor Column \n",
    "\n",
    "FemaleColorsList=list(Females.FavoriteColor.value_counts().index) #saving unique colors present in female student FavoriteColor Column \n",
    "FemaleCounterColor = list(Females.FavoriteColor.value_counts().values) #count how much person have same favorite color in male student FavoriteColor Column \n",
    "\n",
    "\n",
    "\n",
    "\n",
    "plt.figure(figsize = (25,6))\n",
    "width = 0.5\n",
    "plt.bar(MaleColorsList, MaleCounterColor,width)\n",
    "plt.bar(FemaleColorsList, FemaleCounterColor,width)\n",
    "plt.xlabel(\"Favorite Color\")\n",
    "plt.ylabel(\"Student Count\")\n",
    "\n",
    "\n",
    "plt.yticks(fontsize = 12)\n",
    "\n",
    "plt.show()"
   ]
  },
  {
   "cell_type": "markdown",
   "id": "f3ff468c",
   "metadata": {},
   "source": [
    "### Plot line chart of students and their birth months."
   ]
  },
  {
   "cell_type": "code",
   "execution_count": 56,
   "id": "59957f9b",
   "metadata": {},
   "outputs": [],
   "source": [
    "#x-axis show the count of students born in same month\n",
    "#y-axis show the birth months\n",
    "df['BirthMonth'].value_counts()\n",
    "Months = list(df['BirthMonth'].value_counts().index)\n",
    "StudentCountInMonth = list(df['BirthMonth'].value_counts().values)\n"
   ]
  },
  {
   "cell_type": "code",
   "execution_count": 57,
   "id": "ec002943",
   "metadata": {},
   "outputs": [
    {
     "data": {
      "image/png": "[encoded data removed]",
      "text/plain": [
       "<Figure size 432x288 with 1 Axes>"
      ]
     },
     "metadata": {
      "needs_background": "light"
     },
     "output_type": "display_data"
    }
   ],
   "source": [
    "plt.plot(StudentCountInMonth,Months)\n",
    "plt.show()"
   ]
  },
  {
   "cell_type": "markdown",
   "id": "2c9cdcdf",
   "metadata": {},
   "source": [
    "### Create a correlation matrix between HSSC-1 and HSSC-2 marks and then plot on a heatmap."
   ]
  },
  {
   "cell_type": "code",
   "execution_count": 58,
   "id": "e50af79e",
   "metadata": {},
   "outputs": [
    {
     "data": {
      "text/plain": [
       "<AxesSubplot:>"
      ]
     },
     "execution_count": 58,
     "metadata": {},
     "output_type": "execute_result"
    },
    {
     "data": {
      "image/png": "[encoded data removed]",
      "text/plain": [
       "<Figure size 432x288 with 2 Axes>"
      ]
     },
     "metadata": {
      "needs_background": "light"
     },
     "output_type": "display_data"
    }
   ],
   "source": [
    "\n",
    "DATA = {\n",
    "    'HSSC-1': list(df['HSSC-1']),\n",
    "    'HSSC-2': list(df['HSSC-2'])\n",
    "    \n",
    "}\n",
    "\n",
    "hj = pd.DataFrame(DATA)\n",
    "\n",
    "corr_matrix = hj.corr()\n",
    "sns.heatmap(corr_matrix, cmap=\"Blues\", annot=True)"
   ]
  }
 ],
 "metadata": {
  "kernelspec": {
   "display_name": "Python 3 (ipykernel)",
   "language": "python",
   "name": "python3"
  },
  "language_info": {
   "codemirror_mode": {
    "name": "ipython",
    "version": 3
   },
   "file_extension": ".py",
   "mimetype": "text/x-python",
   "name": "python",
   "nbconvert_exporter": "python",
   "pygments_lexer": "ipython3",
   "version": "3.9.12"
  }
 },
 "nbformat": 4,
 "nbformat_minor": 5
}
