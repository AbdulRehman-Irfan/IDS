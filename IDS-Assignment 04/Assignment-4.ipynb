{
 "cells": [
  {
   "cell_type": "markdown",
   "id": "0fbeec24",
   "metadata": {},
   "source": [
    "## FA19-BCS-034\n",
    "## Abdul Rehman\n",
    "## G-2"
   ]
  },
  {
   "cell_type": "code",
   "execution_count": 1,
   "id": "f22ba9bb",
   "metadata": {},
   "outputs": [],
   "source": [
    "#import libraries\n",
    "from sklearn import preprocessing\n",
    "import pandas as pd\n",
    "\n",
    "from sklearn.ensemble import RandomForestClassifier\n",
    "from sklearn.neural_network import MLPClassifier\n",
    "from sklearn.svm import SVC, LinearSVC\n",
    "from sklearn.tree import DecisionTreeClassifier\n",
    "from sklearn.naive_bayes import GaussianNB\n",
    "\n",
    "#import ML evaluation metrics\n",
    "from sklearn.metrics import accuracy_score, f1_score,recall_score,precision_score\n",
    "from sklearn.model_selection import train_test_split\n",
    "from sklearn.model_selection import ShuffleSplit\n",
    "from sklearn import metrics, model_selection\n",
    "from sklearn.model_selection import cross_val_predict,cross_val_score,LeavePOut  \n",
    "\n",
    "#import scikitplot to plot confusion matrix\n",
    "import scikitplot as skplt"
   ]
  },
  {
   "cell_type": "markdown",
   "id": "f3a8b07d",
   "metadata": {},
   "source": [
    "#### Read Dataset"
   ]
  },
  {
   "cell_type": "code",
   "execution_count": 2,
   "id": "05739989",
   "metadata": {},
   "outputs": [
    {
     "data": {
      "text/html": [
       "<div>\n",
       "<style scoped>\n",
       "    .dataframe tbody tr th:only-of-type {\n",
       "        vertical-align: middle;\n",
       "    }\n",
       "\n",
       "    .dataframe tbody tr th {\n",
       "        vertical-align: top;\n",
       "    }\n",
       "\n",
       "    .dataframe thead th {\n",
       "        text-align: right;\n",
       "    }\n",
       "</style>\n",
       "<table border=\"1\" class=\"dataframe\">\n",
       "  <thead>\n",
       "    <tr style=\"text-align: right;\">\n",
       "      <th></th>\n",
       "      <th>height</th>\n",
       "      <th>weight</th>\n",
       "      <th>beard</th>\n",
       "      <th>hair_length</th>\n",
       "      <th>shoe_size</th>\n",
       "      <th>scarf</th>\n",
       "      <th>eye_color</th>\n",
       "      <th>gender</th>\n",
       "    </tr>\n",
       "  </thead>\n",
       "  <tbody>\n",
       "    <tr>\n",
       "      <th>0</th>\n",
       "      <td>71</td>\n",
       "      <td>176</td>\n",
       "      <td>yes</td>\n",
       "      <td>short</td>\n",
       "      <td>44</td>\n",
       "      <td>no</td>\n",
       "      <td>black</td>\n",
       "      <td>male</td>\n",
       "    </tr>\n",
       "    <tr>\n",
       "      <th>1</th>\n",
       "      <td>68</td>\n",
       "      <td>165</td>\n",
       "      <td>no</td>\n",
       "      <td>bald</td>\n",
       "      <td>41</td>\n",
       "      <td>no</td>\n",
       "      <td>black</td>\n",
       "      <td>male</td>\n",
       "    </tr>\n",
       "    <tr>\n",
       "      <th>2</th>\n",
       "      <td>62</td>\n",
       "      <td>132</td>\n",
       "      <td>no</td>\n",
       "      <td>medium</td>\n",
       "      <td>37</td>\n",
       "      <td>yes</td>\n",
       "      <td>blue</td>\n",
       "      <td>female</td>\n",
       "    </tr>\n",
       "    <tr>\n",
       "      <th>3</th>\n",
       "      <td>65</td>\n",
       "      <td>138</td>\n",
       "      <td>no</td>\n",
       "      <td>long</td>\n",
       "      <td>38</td>\n",
       "      <td>no</td>\n",
       "      <td>gray</td>\n",
       "      <td>female</td>\n",
       "    </tr>\n",
       "    <tr>\n",
       "      <th>4</th>\n",
       "      <td>70</td>\n",
       "      <td>197</td>\n",
       "      <td>yes</td>\n",
       "      <td>medium</td>\n",
       "      <td>43</td>\n",
       "      <td>no</td>\n",
       "      <td>gray</td>\n",
       "      <td>male</td>\n",
       "    </tr>\n",
       "    <tr>\n",
       "      <th>...</th>\n",
       "      <td>...</td>\n",
       "      <td>...</td>\n",
       "      <td>...</td>\n",
       "      <td>...</td>\n",
       "      <td>...</td>\n",
       "      <td>...</td>\n",
       "      <td>...</td>\n",
       "      <td>...</td>\n",
       "    </tr>\n",
       "    <tr>\n",
       "      <th>75</th>\n",
       "      <td>65</td>\n",
       "      <td>99</td>\n",
       "      <td>no</td>\n",
       "      <td>short</td>\n",
       "      <td>39</td>\n",
       "      <td>yes</td>\n",
       "      <td>green</td>\n",
       "      <td>female</td>\n",
       "    </tr>\n",
       "    <tr>\n",
       "      <th>76</th>\n",
       "      <td>61</td>\n",
       "      <td>98</td>\n",
       "      <td>no</td>\n",
       "      <td>short</td>\n",
       "      <td>37</td>\n",
       "      <td>no</td>\n",
       "      <td>brown</td>\n",
       "      <td>female</td>\n",
       "    </tr>\n",
       "    <tr>\n",
       "      <th>77</th>\n",
       "      <td>67</td>\n",
       "      <td>119</td>\n",
       "      <td>yes</td>\n",
       "      <td>short</td>\n",
       "      <td>40</td>\n",
       "      <td>no</td>\n",
       "      <td>black</td>\n",
       "      <td>male</td>\n",
       "    </tr>\n",
       "    <tr>\n",
       "      <th>78</th>\n",
       "      <td>70</td>\n",
       "      <td>190</td>\n",
       "      <td>yes</td>\n",
       "      <td>medium</td>\n",
       "      <td>43</td>\n",
       "      <td>no</td>\n",
       "      <td>gray</td>\n",
       "      <td>male</td>\n",
       "    </tr>\n",
       "    <tr>\n",
       "      <th>79</th>\n",
       "      <td>62</td>\n",
       "      <td>142</td>\n",
       "      <td>yes</td>\n",
       "      <td>long</td>\n",
       "      <td>37</td>\n",
       "      <td>no</td>\n",
       "      <td>blue</td>\n",
       "      <td>female</td>\n",
       "    </tr>\n",
       "  </tbody>\n",
       "</table>\n",
       "<p>80 rows × 8 columns</p>\n",
       "</div>"
      ],
      "text/plain": [
       "    height  weight beard hair_length  shoe_size scarf eye_color  gender\n",
       "0       71     176   yes       short         44    no     black    male\n",
       "1       68     165    no        bald         41    no     black    male\n",
       "2       62     132    no      medium         37   yes      blue  female\n",
       "3       65     138    no        long         38    no      gray  female\n",
       "4       70     197   yes      medium         43    no      gray    male\n",
       "..     ...     ...   ...         ...        ...   ...       ...     ...\n",
       "75      65      99    no       short         39   yes     green  female\n",
       "76      61      98    no       short         37    no     brown  female\n",
       "77      67     119   yes       short         40    no     black    male\n",
       "78      70     190   yes      medium         43    no      gray    male\n",
       "79      62     142   yes        long         37    no      blue  female\n",
       "\n",
       "[80 rows x 8 columns]"
      ]
     },
     "execution_count": 2,
     "metadata": {},
     "output_type": "execute_result"
    }
   ],
   "source": [
    "#read CSV (dataset) file\n",
    "df_gender = pd.read_csv('./gender-prediction.csv')\n",
    "df_gender"
   ]
  },
  {
   "cell_type": "markdown",
   "id": "8d499fd5",
   "metadata": {},
   "source": [
    "#### Print the info about dataset"
   ]
  },
  {
   "cell_type": "code",
   "execution_count": 3,
   "id": "2542d859",
   "metadata": {},
   "outputs": [
    {
     "name": "stdout",
     "output_type": "stream",
     "text": [
      "<class 'pandas.core.frame.DataFrame'>\n",
      "RangeIndex: 80 entries, 0 to 79\n",
      "Data columns (total 8 columns):\n",
      " #   Column       Non-Null Count  Dtype \n",
      "---  ------       --------------  ----- \n",
      " 0   height       80 non-null     int64 \n",
      " 1   weight       80 non-null     int64 \n",
      " 2   beard        80 non-null     object\n",
      " 3   hair_length  80 non-null     object\n",
      " 4   shoe_size    80 non-null     int64 \n",
      " 5   scarf        80 non-null     object\n",
      " 6   eye_color    80 non-null     object\n",
      " 7   gender       80 non-null     object\n",
      "dtypes: int64(3), object(5)\n",
      "memory usage: 5.1+ KB\n"
     ]
    }
   ],
   "source": [
    "df_gender.info()"
   ]
  },
  {
   "cell_type": "code",
   "execution_count": 4,
   "id": "10a5912a",
   "metadata": {},
   "outputs": [
    {
     "data": {
      "text/plain": [
       "male      46\n",
       "female    34\n",
       "Name: gender, dtype: int64"
      ]
     },
     "execution_count": 4,
     "metadata": {},
     "output_type": "execute_result"
    }
   ],
   "source": [
    "df_gender['gender'].value_counts()"
   ]
  },
  {
   "cell_type": "markdown",
   "id": "a37ee0ff",
   "metadata": {},
   "source": [
    "### Question 2"
   ]
  },
  {
   "cell_type": "code",
   "execution_count": 6,
   "id": "8ae21355",
   "metadata": {},
   "outputs": [
    {
     "data": {
      "text/html": [
       "<div>\n",
       "<style scoped>\n",
       "    .dataframe tbody tr th:only-of-type {\n",
       "        vertical-align: middle;\n",
       "    }\n",
       "\n",
       "    .dataframe tbody tr th {\n",
       "        vertical-align: top;\n",
       "    }\n",
       "\n",
       "    .dataframe thead th {\n",
       "        text-align: right;\n",
       "    }\n",
       "</style>\n",
       "<table border=\"1\" class=\"dataframe\">\n",
       "  <thead>\n",
       "    <tr style=\"text-align: right;\">\n",
       "      <th></th>\n",
       "      <th>gender</th>\n",
       "    </tr>\n",
       "  </thead>\n",
       "  <tbody>\n",
       "    <tr>\n",
       "      <th>0</th>\n",
       "      <td>male</td>\n",
       "    </tr>\n",
       "    <tr>\n",
       "      <th>1</th>\n",
       "      <td>male</td>\n",
       "    </tr>\n",
       "    <tr>\n",
       "      <th>2</th>\n",
       "      <td>female</td>\n",
       "    </tr>\n",
       "    <tr>\n",
       "      <th>3</th>\n",
       "      <td>female</td>\n",
       "    </tr>\n",
       "    <tr>\n",
       "      <th>4</th>\n",
       "      <td>male</td>\n",
       "    </tr>\n",
       "    <tr>\n",
       "      <th>...</th>\n",
       "      <td>...</td>\n",
       "    </tr>\n",
       "    <tr>\n",
       "      <th>75</th>\n",
       "      <td>female</td>\n",
       "    </tr>\n",
       "    <tr>\n",
       "      <th>76</th>\n",
       "      <td>female</td>\n",
       "    </tr>\n",
       "    <tr>\n",
       "      <th>77</th>\n",
       "      <td>male</td>\n",
       "    </tr>\n",
       "    <tr>\n",
       "      <th>78</th>\n",
       "      <td>male</td>\n",
       "    </tr>\n",
       "    <tr>\n",
       "      <th>79</th>\n",
       "      <td>female</td>\n",
       "    </tr>\n",
       "  </tbody>\n",
       "</table>\n",
       "<p>80 rows × 1 columns</p>\n",
       "</div>"
      ],
      "text/plain": [
       "    gender\n",
       "0     male\n",
       "1     male\n",
       "2   female\n",
       "3   female\n",
       "4     male\n",
       "..     ...\n",
       "75  female\n",
       "76  female\n",
       "77    male\n",
       "78    male\n",
       "79  female\n",
       "\n",
       "[80 rows x 1 columns]"
      ]
     },
     "execution_count": 6,
     "metadata": {},
     "output_type": "execute_result"
    }
   ],
   "source": [
    "#seperate dependent (output) and independent (input) variables\n",
    "input_columns = df_gender.drop('gender', axis=1)\n",
    "output_column = pd.DataFrame(df_gender['gender'])\n",
    "output_column"
   ]
  },
  {
   "cell_type": "code",
   "execution_count": 7,
   "id": "c766d445",
   "metadata": {},
   "outputs": [],
   "source": [
    "labels = preprocessing.LabelEncoder()"
   ]
  },
  {
   "cell_type": "code",
   "execution_count": 8,
   "id": "d575ff2e",
   "metadata": {},
   "outputs": [
    {
     "data": {
      "text/html": [
       "<div>\n",
       "<style scoped>\n",
       "    .dataframe tbody tr th:only-of-type {\n",
       "        vertical-align: middle;\n",
       "    }\n",
       "\n",
       "    .dataframe tbody tr th {\n",
       "        vertical-align: top;\n",
       "    }\n",
       "\n",
       "    .dataframe thead th {\n",
       "        text-align: right;\n",
       "    }\n",
       "</style>\n",
       "<table border=\"1\" class=\"dataframe\">\n",
       "  <thead>\n",
       "    <tr style=\"text-align: right;\">\n",
       "      <th></th>\n",
       "      <th>gender</th>\n",
       "    </tr>\n",
       "  </thead>\n",
       "  <tbody>\n",
       "    <tr>\n",
       "      <th>0</th>\n",
       "      <td>1</td>\n",
       "    </tr>\n",
       "    <tr>\n",
       "      <th>1</th>\n",
       "      <td>1</td>\n",
       "    </tr>\n",
       "    <tr>\n",
       "      <th>2</th>\n",
       "      <td>0</td>\n",
       "    </tr>\n",
       "    <tr>\n",
       "      <th>3</th>\n",
       "      <td>0</td>\n",
       "    </tr>\n",
       "    <tr>\n",
       "      <th>4</th>\n",
       "      <td>1</td>\n",
       "    </tr>\n",
       "    <tr>\n",
       "      <th>...</th>\n",
       "      <td>...</td>\n",
       "    </tr>\n",
       "    <tr>\n",
       "      <th>75</th>\n",
       "      <td>0</td>\n",
       "    </tr>\n",
       "    <tr>\n",
       "      <th>76</th>\n",
       "      <td>0</td>\n",
       "    </tr>\n",
       "    <tr>\n",
       "      <th>77</th>\n",
       "      <td>1</td>\n",
       "    </tr>\n",
       "    <tr>\n",
       "      <th>78</th>\n",
       "      <td>1</td>\n",
       "    </tr>\n",
       "    <tr>\n",
       "      <th>79</th>\n",
       "      <td>0</td>\n",
       "    </tr>\n",
       "  </tbody>\n",
       "</table>\n",
       "<p>80 rows × 1 columns</p>\n",
       "</div>"
      ],
      "text/plain": [
       "    gender\n",
       "0        1\n",
       "1        1\n",
       "2        0\n",
       "3        0\n",
       "4        1\n",
       "..     ...\n",
       "75       0\n",
       "76       0\n",
       "77       1\n",
       "78       1\n",
       "79       0\n",
       "\n",
       "[80 rows x 1 columns]"
      ]
     },
     "execution_count": 8,
     "metadata": {},
     "output_type": "execute_result"
    }
   ],
   "source": [
    "#encodign the output\n",
    "output_column.gender = labels.fit_transform(output_column.gender)\n",
    "output_column"
   ]
  },
  {
   "cell_type": "code",
   "execution_count": 9,
   "id": "44368c52",
   "metadata": {},
   "outputs": [],
   "source": [
    "#encoding the categorical attribute of input\n",
    "input_columns.beard = labels.fit_transform(input_columns.beard)\n",
    "input_columns.hair_length = labels.fit_transform(input_columns.hair_length)\n",
    "input_columns.scarf = labels.fit_transform(input_columns.scarf)\n",
    "input_columns.eye_color = labels.fit_transform(input_columns.eye_color)"
   ]
  },
  {
   "cell_type": "markdown",
   "id": "1601669e",
   "metadata": {},
   "source": [
    "#### Test split ( 67% and 33%)"
   ]
  },
  {
   "cell_type": "code",
   "execution_count": 10,
   "id": "e34aa619",
   "metadata": {},
   "outputs": [],
   "source": [
    "#split the data\n",
    "X_train, x_test, Y_train, y_test = train_test_split(input_columns, output_column, test_size = 0.33, random_state = 1)"
   ]
  },
  {
   "cell_type": "markdown",
   "id": "edde8124",
   "metadata": {},
   "source": [
    "##### Random Forest Model"
   ]
  },
  {
   "cell_type": "code",
   "execution_count": 12,
   "id": "c2834211",
   "metadata": {},
   "outputs": [],
   "source": [
    "#load the classifier\n",
    "model_1 = RandomForestClassifier()"
   ]
  },
  {
   "cell_type": "code",
   "execution_count": null,
   "id": "6ad043e8",
   "metadata": {},
   "outputs": [],
   "source": [
    "#train the random forest classifier model using training data\n",
    "model_1.fit(X_train,Y_train)"
   ]
  },
  {
   "cell_type": "code",
   "execution_count": 14,
   "id": "219b180b",
   "metadata": {},
   "outputs": [],
   "source": [
    "#make prediction using the random forest classifier trained model\n",
    "prediction_1 = model_1.predict(x_test)"
   ]
  },
  {
   "cell_type": "code",
   "execution_count": 15,
   "id": "38e75f9c",
   "metadata": {},
   "outputs": [
    {
     "name": "stdout",
     "output_type": "stream",
     "text": [
      "100.0\n"
     ]
    }
   ],
   "source": [
    "#calcualte and print accuracy\n",
    "model_acc = accuracy_score(y_test, prediction_1)*100\n",
    "print(model_acc)"
   ]
  },
  {
   "cell_type": "code",
   "execution_count": 16,
   "id": "fe9fdf65",
   "metadata": {},
   "outputs": [
    {
     "name": "stdout",
     "output_type": "stream",
     "text": [
      "[[14  0]\n",
      " [ 0 13]]\n"
     ]
    }
   ],
   "source": [
    "#generate confusion matrix\n",
    "model_cm = metrics.confusion_matrix(y_test, prediction_1)\n",
    "print(model_cm)"
   ]
  },
  {
   "cell_type": "code",
   "execution_count": 17,
   "id": "d4a5b121",
   "metadata": {},
   "outputs": [
    {
     "name": "stdout",
     "output_type": "stream",
     "text": [
      "              precision    recall  f1-score   support\n",
      "\n",
      "           0       1.00      1.00      1.00        14\n",
      "           1       1.00      1.00      1.00        13\n",
      "\n",
      "    accuracy                           1.00        27\n",
      "   macro avg       1.00      1.00      1.00        27\n",
      "weighted avg       1.00      1.00      1.00        27\n",
      "\n"
     ]
    }
   ],
   "source": [
    "model_cl_rep = metrics.classification_report(y_test, prediction_1)\n",
    "print(model_cl_rep)"
   ]
  },
  {
   "cell_type": "markdown",
   "id": "b0633b2e",
   "metadata": {},
   "source": [
    "##### Support Vector Machine"
   ]
  },
  {
   "cell_type": "code",
   "execution_count": 18,
   "id": "578228aa",
   "metadata": {},
   "outputs": [],
   "source": [
    "#load the model\n",
    "model_2 = SVC()"
   ]
  },
  {
   "cell_type": "code",
   "execution_count": null,
   "id": "c88e8b83",
   "metadata": {},
   "outputs": [],
   "source": [
    "#train the SVC model using training data\n",
    "model_2.fit(X_train,Y_train)"
   ]
  },
  {
   "cell_type": "code",
   "execution_count": 20,
   "id": "936ac17c",
   "metadata": {},
   "outputs": [],
   "source": [
    "#make prediction using the svc trained model\n",
    "prediction_2 = model_2.predict(x_test)"
   ]
  },
  {
   "cell_type": "code",
   "execution_count": 21,
   "id": "1415dac6",
   "metadata": {},
   "outputs": [
    {
     "name": "stdout",
     "output_type": "stream",
     "text": [
      "77.77777777777779\n"
     ]
    }
   ],
   "source": [
    "#calcualte and print accuracy\n",
    "model_acc = accuracy_score(y_test, prediction_2)*100\n",
    "print(model_acc)"
   ]
  },
  {
   "cell_type": "code",
   "execution_count": 22,
   "id": "6d6d7f76",
   "metadata": {},
   "outputs": [
    {
     "name": "stdout",
     "output_type": "stream",
     "text": [
      "[[11  3]\n",
      " [ 3 10]]\n"
     ]
    }
   ],
   "source": [
    "#generate confusion matrix\n",
    "model_cm = metrics.confusion_matrix(y_test, prediction_2)\n",
    "print(model_cm)"
   ]
  },
  {
   "cell_type": "code",
   "execution_count": 23,
   "id": "0f4a37ba",
   "metadata": {},
   "outputs": [
    {
     "name": "stdout",
     "output_type": "stream",
     "text": [
      "              precision    recall  f1-score   support\n",
      "\n",
      "           0       0.79      0.79      0.79        14\n",
      "           1       0.77      0.77      0.77        13\n",
      "\n",
      "    accuracy                           0.78        27\n",
      "   macro avg       0.78      0.78      0.78        27\n",
      "weighted avg       0.78      0.78      0.78        27\n",
      "\n"
     ]
    }
   ],
   "source": [
    "model_cl_rep = metrics.classification_report(y_test, prediction_2)\n",
    "print(model_cl_rep)"
   ]
  },
  {
   "cell_type": "markdown",
   "id": "a6002c9f",
   "metadata": {},
   "source": [
    "##### Multilayer Perceptron"
   ]
  },
  {
   "cell_type": "code",
   "execution_count": 24,
   "id": "0f81006c",
   "metadata": {},
   "outputs": [],
   "source": [
    "#load the model\n",
    "model_3 = MLPClassifier(random_state=1, max_iter=250)"
   ]
  },
  {
   "cell_type": "code",
   "execution_count": null,
   "id": "d7942200",
   "metadata": {},
   "outputs": [],
   "source": [
    "#train the MLP using training data\n",
    "model_3.fit(X_train,Y_train)"
   ]
  },
  {
   "cell_type": "code",
   "execution_count": 26,
   "id": "c5b05a7a",
   "metadata": {},
   "outputs": [],
   "source": [
    "#make prediction using the MLP trained model\n",
    "prediction_3 = model_3.predict(x_test)"
   ]
  },
  {
   "cell_type": "code",
   "execution_count": 27,
   "id": "e5159c37",
   "metadata": {},
   "outputs": [
    {
     "name": "stdout",
     "output_type": "stream",
     "text": [
      "48.148148148148145\n"
     ]
    }
   ],
   "source": [
    "#calcualte and print accuracy\n",
    "model_acc = accuracy_score(y_test, prediction_3)*100\n",
    "print(model_acc)"
   ]
  },
  {
   "cell_type": "code",
   "execution_count": 28,
   "id": "aa6860ff",
   "metadata": {},
   "outputs": [
    {
     "name": "stdout",
     "output_type": "stream",
     "text": [
      "[[ 0 14]\n",
      " [ 0 13]]\n"
     ]
    }
   ],
   "source": [
    "#generate confusion matrix\n",
    "model_cm = metrics.confusion_matrix(y_test, prediction_3)\n",
    "print(model_cm)"
   ]
  },
  {
   "cell_type": "markdown",
   "id": "cdef21b6",
   "metadata": {},
   "source": [
    "#### Rerun the experiment using train/test split ratio of 80/20\n"
   ]
  },
  {
   "cell_type": "code",
   "execution_count": 29,
   "id": "dc0d7ecc",
   "metadata": {},
   "outputs": [],
   "source": [
    "#split the data\n",
    "X_train, x_test, Y_train, y_test = train_test_split(input_columns, output_column, test_size = 0.20, random_state = 1)"
   ]
  },
  {
   "cell_type": "markdown",
   "id": "99864f6f",
   "metadata": {},
   "source": [
    "##### Random Forest Model"
   ]
  },
  {
   "cell_type": "code",
   "execution_count": null,
   "id": "a6e60e2d",
   "metadata": {},
   "outputs": [],
   "source": [
    "#train the random forest classifier model using training data\n",
    "model_1.fit(X_train,Y_train)"
   ]
  },
  {
   "cell_type": "code",
   "execution_count": 31,
   "id": "d8253c8d",
   "metadata": {},
   "outputs": [],
   "source": [
    "#make prediction using the random forest classifier trained model\n",
    "prediction_1_new = model_1.predict(x_test)"
   ]
  },
  {
   "cell_type": "code",
   "execution_count": 32,
   "id": "18cfc401",
   "metadata": {},
   "outputs": [
    {
     "name": "stdout",
     "output_type": "stream",
     "text": [
      "100.0\n"
     ]
    }
   ],
   "source": [
    "#calcualte and print accuracy\n",
    "model_1_accuracy = accuracy_score(y_test, prediction_1_new)*100\n",
    "print(model_1_accuracy)"
   ]
  },
  {
   "cell_type": "code",
   "execution_count": 33,
   "id": "bcf9aa79",
   "metadata": {},
   "outputs": [
    {
     "name": "stdout",
     "output_type": "stream",
     "text": [
      "[[9 0]\n",
      " [0 7]]\n"
     ]
    }
   ],
   "source": [
    "#generate confusion matrix\n",
    "model_1_cm = metrics.confusion_matrix(y_test, prediction_1_new)\n",
    "print(model_1_cm)"
   ]
  },
  {
   "cell_type": "code",
   "execution_count": 34,
   "id": "48a10f36",
   "metadata": {},
   "outputs": [
    {
     "name": "stdout",
     "output_type": "stream",
     "text": [
      "              precision    recall  f1-score   support\n",
      "\n",
      "           0       1.00      1.00      1.00         9\n",
      "           1       1.00      1.00      1.00         7\n",
      "\n",
      "    accuracy                           1.00        16\n",
      "   macro avg       1.00      1.00      1.00        16\n",
      "weighted avg       1.00      1.00      1.00        16\n",
      "\n"
     ]
    }
   ],
   "source": [
    "model_cl_rep = metrics.classification_report(y_test, prediction_1_new)\n",
    "print(model_cl_rep)"
   ]
  },
  {
   "cell_type": "markdown",
   "id": "74a43352",
   "metadata": {},
   "source": [
    "##### Support Vector Machine"
   ]
  },
  {
   "cell_type": "code",
   "execution_count": null,
   "id": "3059f1b2",
   "metadata": {},
   "outputs": [],
   "source": [
    "#train the SVC model using training data\n",
    "model_2.fit(X_train,Y_train)"
   ]
  },
  {
   "cell_type": "code",
   "execution_count": 36,
   "id": "589a609a",
   "metadata": {},
   "outputs": [],
   "source": [
    "#make prediction using the svc trained model\n",
    "prediction_2_new = model_2.predict(x_test)"
   ]
  },
  {
   "cell_type": "code",
   "execution_count": 37,
   "id": "07a5da99",
   "metadata": {},
   "outputs": [
    {
     "name": "stdout",
     "output_type": "stream",
     "text": [
      "87.5\n"
     ]
    }
   ],
   "source": [
    "#calcualte and print accuracy\n",
    "model_2_accuracy = accuracy_score(y_test, prediction_2_new)*100\n",
    "print(model_2_accuracy)"
   ]
  },
  {
   "cell_type": "code",
   "execution_count": 38,
   "id": "b01ce7e2",
   "metadata": {},
   "outputs": [
    {
     "name": "stdout",
     "output_type": "stream",
     "text": [
      "[[8 1]\n",
      " [1 6]]\n"
     ]
    }
   ],
   "source": [
    "#generate confusion matrix\n",
    "model_2_cm = metrics.confusion_matrix(y_test, prediction_2_new)\n",
    "print(model_2_cm)"
   ]
  },
  {
   "cell_type": "code",
   "execution_count": 39,
   "id": "410492b0",
   "metadata": {},
   "outputs": [
    {
     "name": "stdout",
     "output_type": "stream",
     "text": [
      "              precision    recall  f1-score   support\n",
      "\n",
      "           0       0.89      0.89      0.89         9\n",
      "           1       0.86      0.86      0.86         7\n",
      "\n",
      "    accuracy                           0.88        16\n",
      "   macro avg       0.87      0.87      0.87        16\n",
      "weighted avg       0.88      0.88      0.88        16\n",
      "\n"
     ]
    }
   ],
   "source": [
    "model_cl_rep = metrics.classification_report(y_test, prediction_2_new)\n",
    "print(model_cl_rep)"
   ]
  },
  {
   "cell_type": "markdown",
   "id": "26310e67",
   "metadata": {},
   "source": [
    "##### Multilayer Perceptron"
   ]
  },
  {
   "cell_type": "code",
   "execution_count": null,
   "id": "7960d128",
   "metadata": {},
   "outputs": [],
   "source": [
    "#train the MLP using training data\n",
    "model_3.fit(X_train,Y_train)"
   ]
  },
  {
   "cell_type": "code",
   "execution_count": 41,
   "id": "ff9e490c",
   "metadata": {},
   "outputs": [],
   "source": [
    "#make prediction using the MLP trained model\n",
    "prediction_3_new = model_3.predict(x_test)"
   ]
  },
  {
   "cell_type": "code",
   "execution_count": 42,
   "id": "9b696086",
   "metadata": {},
   "outputs": [
    {
     "name": "stdout",
     "output_type": "stream",
     "text": [
      "43.75\n"
     ]
    }
   ],
   "source": [
    "#calcualte and print accuracy\n",
    "model_3_accuracy = accuracy_score(y_test, prediction_3_new)*100\n",
    "print(model_3_accuracy)"
   ]
  },
  {
   "cell_type": "code",
   "execution_count": 43,
   "id": "dd968748",
   "metadata": {},
   "outputs": [
    {
     "name": "stdout",
     "output_type": "stream",
     "text": [
      "[[0 9]\n",
      " [0 7]]\n"
     ]
    }
   ],
   "source": [
    "#generate confusion matrix\n",
    "model_3_cm = metrics.confusion_matrix(y_test, prediction_3_new)\n",
    "print(model_3_cm)"
   ]
  },
  {
   "cell_type": "code",
   "execution_count": 44,
   "id": "9b17f53d",
   "metadata": {},
   "outputs": [
    {
     "name": "stdout",
     "output_type": "stream",
     "text": [
      "              precision    recall  f1-score   support\n",
      "\n",
      "           0       0.00      0.00      0.00         9\n",
      "           1       0.44      1.00      0.61         7\n",
      "\n",
      "    accuracy                           0.44        16\n",
      "   macro avg       0.22      0.50      0.30        16\n",
      "weighted avg       0.19      0.44      0.27        16\n",
      "\n"
     ]
    }
   ],
   "source": [
    "model_cl_rep = metrics.classification_report(y_test, prediction_3_new,zero_division=0)\n",
    "print(model_cl_rep)"
   ]
  },
  {
   "cell_type": "markdown",
   "id": "37b79663",
   "metadata": {},
   "source": [
    "##### Name 2 attributes that you believe are the most “powerful” in the prediction task. Explain why?"
   ]
  },
  {
   "cell_type": "code",
   "execution_count": 45,
   "id": "31fe5d38",
   "metadata": {},
   "outputs": [
    {
     "data": {
      "text/html": [
       "<div>\n",
       "<style scoped>\n",
       "    .dataframe tbody tr th:only-of-type {\n",
       "        vertical-align: middle;\n",
       "    }\n",
       "\n",
       "    .dataframe tbody tr th {\n",
       "        vertical-align: top;\n",
       "    }\n",
       "\n",
       "    .dataframe thead th {\n",
       "        text-align: right;\n",
       "    }\n",
       "</style>\n",
       "<table border=\"1\" class=\"dataframe\">\n",
       "  <thead>\n",
       "    <tr style=\"text-align: right;\">\n",
       "      <th></th>\n",
       "      <th>height</th>\n",
       "      <th>weight</th>\n",
       "      <th>beard</th>\n",
       "      <th>hair_length</th>\n",
       "      <th>shoe_size</th>\n",
       "      <th>scarf</th>\n",
       "      <th>eye_color</th>\n",
       "    </tr>\n",
       "  </thead>\n",
       "  <tbody>\n",
       "    <tr>\n",
       "      <th>0</th>\n",
       "      <td>71</td>\n",
       "      <td>176</td>\n",
       "      <td>1</td>\n",
       "      <td>3</td>\n",
       "      <td>44</td>\n",
       "      <td>0</td>\n",
       "      <td>0</td>\n",
       "    </tr>\n",
       "    <tr>\n",
       "      <th>1</th>\n",
       "      <td>68</td>\n",
       "      <td>165</td>\n",
       "      <td>0</td>\n",
       "      <td>0</td>\n",
       "      <td>41</td>\n",
       "      <td>0</td>\n",
       "      <td>0</td>\n",
       "    </tr>\n",
       "    <tr>\n",
       "      <th>2</th>\n",
       "      <td>62</td>\n",
       "      <td>132</td>\n",
       "      <td>0</td>\n",
       "      <td>2</td>\n",
       "      <td>37</td>\n",
       "      <td>1</td>\n",
       "      <td>1</td>\n",
       "    </tr>\n",
       "    <tr>\n",
       "      <th>3</th>\n",
       "      <td>65</td>\n",
       "      <td>138</td>\n",
       "      <td>0</td>\n",
       "      <td>1</td>\n",
       "      <td>38</td>\n",
       "      <td>0</td>\n",
       "      <td>3</td>\n",
       "    </tr>\n",
       "    <tr>\n",
       "      <th>4</th>\n",
       "      <td>70</td>\n",
       "      <td>197</td>\n",
       "      <td>1</td>\n",
       "      <td>2</td>\n",
       "      <td>43</td>\n",
       "      <td>0</td>\n",
       "      <td>3</td>\n",
       "    </tr>\n",
       "    <tr>\n",
       "      <th>...</th>\n",
       "      <td>...</td>\n",
       "      <td>...</td>\n",
       "      <td>...</td>\n",
       "      <td>...</td>\n",
       "      <td>...</td>\n",
       "      <td>...</td>\n",
       "      <td>...</td>\n",
       "    </tr>\n",
       "    <tr>\n",
       "      <th>75</th>\n",
       "      <td>65</td>\n",
       "      <td>99</td>\n",
       "      <td>0</td>\n",
       "      <td>3</td>\n",
       "      <td>39</td>\n",
       "      <td>1</td>\n",
       "      <td>4</td>\n",
       "    </tr>\n",
       "    <tr>\n",
       "      <th>76</th>\n",
       "      <td>61</td>\n",
       "      <td>98</td>\n",
       "      <td>0</td>\n",
       "      <td>3</td>\n",
       "      <td>37</td>\n",
       "      <td>0</td>\n",
       "      <td>2</td>\n",
       "    </tr>\n",
       "    <tr>\n",
       "      <th>77</th>\n",
       "      <td>67</td>\n",
       "      <td>119</td>\n",
       "      <td>1</td>\n",
       "      <td>3</td>\n",
       "      <td>40</td>\n",
       "      <td>0</td>\n",
       "      <td>0</td>\n",
       "    </tr>\n",
       "    <tr>\n",
       "      <th>78</th>\n",
       "      <td>70</td>\n",
       "      <td>190</td>\n",
       "      <td>1</td>\n",
       "      <td>2</td>\n",
       "      <td>43</td>\n",
       "      <td>0</td>\n",
       "      <td>3</td>\n",
       "    </tr>\n",
       "    <tr>\n",
       "      <th>79</th>\n",
       "      <td>62</td>\n",
       "      <td>142</td>\n",
       "      <td>1</td>\n",
       "      <td>1</td>\n",
       "      <td>37</td>\n",
       "      <td>0</td>\n",
       "      <td>1</td>\n",
       "    </tr>\n",
       "  </tbody>\n",
       "</table>\n",
       "<p>80 rows × 7 columns</p>\n",
       "</div>"
      ],
      "text/plain": [
       "    height  weight  beard  hair_length  shoe_size  scarf  eye_color\n",
       "0       71     176      1            3         44      0          0\n",
       "1       68     165      0            0         41      0          0\n",
       "2       62     132      0            2         37      1          1\n",
       "3       65     138      0            1         38      0          3\n",
       "4       70     197      1            2         43      0          3\n",
       "..     ...     ...    ...          ...        ...    ...        ...\n",
       "75      65      99      0            3         39      1          4\n",
       "76      61      98      0            3         37      0          2\n",
       "77      67     119      1            3         40      0          0\n",
       "78      70     190      1            2         43      0          3\n",
       "79      62     142      1            1         37      0          1\n",
       "\n",
       "[80 rows x 7 columns]"
      ]
     },
     "execution_count": 45,
     "metadata": {},
     "output_type": "execute_result"
    }
   ],
   "source": [
    "input_columns"
   ]
  },
  {
   "cell_type": "markdown",
   "id": "04cdd352",
   "metadata": {},
   "source": [
    "Beard and scarf are more powerful attribute in predicting task. These are the attributes which mainly distinguish between male and female. Female dont have beard and men do not wear scarf. Male and female may have same value of other attributes. Like both male and female can have short hair length. They may have same value of height, shoe size and weight."
   ]
  },
  {
   "cell_type": "markdown",
   "id": "43413dcf",
   "metadata": {},
   "source": [
    "##### Rerun the experiment (using 80/20 train/test split) with Two selected attribute"
   ]
  },
  {
   "cell_type": "code",
   "execution_count": 46,
   "id": "b6826e02",
   "metadata": {},
   "outputs": [
    {
     "data": {
      "text/html": [
       "<div>\n",
       "<style scoped>\n",
       "    .dataframe tbody tr th:only-of-type {\n",
       "        vertical-align: middle;\n",
       "    }\n",
       "\n",
       "    .dataframe tbody tr th {\n",
       "        vertical-align: top;\n",
       "    }\n",
       "\n",
       "    .dataframe thead th {\n",
       "        text-align: right;\n",
       "    }\n",
       "</style>\n",
       "<table border=\"1\" class=\"dataframe\">\n",
       "  <thead>\n",
       "    <tr style=\"text-align: right;\">\n",
       "      <th></th>\n",
       "      <th>Beard</th>\n",
       "      <th>Scarf</th>\n",
       "    </tr>\n",
       "  </thead>\n",
       "  <tbody>\n",
       "    <tr>\n",
       "      <th>0</th>\n",
       "      <td>1</td>\n",
       "      <td>0</td>\n",
       "    </tr>\n",
       "    <tr>\n",
       "      <th>1</th>\n",
       "      <td>0</td>\n",
       "      <td>0</td>\n",
       "    </tr>\n",
       "    <tr>\n",
       "      <th>2</th>\n",
       "      <td>0</td>\n",
       "      <td>1</td>\n",
       "    </tr>\n",
       "    <tr>\n",
       "      <th>3</th>\n",
       "      <td>0</td>\n",
       "      <td>0</td>\n",
       "    </tr>\n",
       "    <tr>\n",
       "      <th>4</th>\n",
       "      <td>1</td>\n",
       "      <td>0</td>\n",
       "    </tr>\n",
       "    <tr>\n",
       "      <th>...</th>\n",
       "      <td>...</td>\n",
       "      <td>...</td>\n",
       "    </tr>\n",
       "    <tr>\n",
       "      <th>75</th>\n",
       "      <td>0</td>\n",
       "      <td>1</td>\n",
       "    </tr>\n",
       "    <tr>\n",
       "      <th>76</th>\n",
       "      <td>0</td>\n",
       "      <td>0</td>\n",
       "    </tr>\n",
       "    <tr>\n",
       "      <th>77</th>\n",
       "      <td>1</td>\n",
       "      <td>0</td>\n",
       "    </tr>\n",
       "    <tr>\n",
       "      <th>78</th>\n",
       "      <td>1</td>\n",
       "      <td>0</td>\n",
       "    </tr>\n",
       "    <tr>\n",
       "      <th>79</th>\n",
       "      <td>1</td>\n",
       "      <td>0</td>\n",
       "    </tr>\n",
       "  </tbody>\n",
       "</table>\n",
       "<p>80 rows × 2 columns</p>\n",
       "</div>"
      ],
      "text/plain": [
       "    Beard  Scarf\n",
       "0       1      0\n",
       "1       0      0\n",
       "2       0      1\n",
       "3       0      0\n",
       "4       1      0\n",
       "..    ...    ...\n",
       "75      0      1\n",
       "76      0      0\n",
       "77      1      0\n",
       "78      1      0\n",
       "79      1      0\n",
       "\n",
       "[80 rows x 2 columns]"
      ]
     },
     "execution_count": 46,
     "metadata": {},
     "output_type": "execute_result"
    }
   ],
   "source": [
    "#make dataframe of two selcted columns\n",
    "new_input_pd = pd.DataFrame(list(zip(input_columns.beard, input_columns.scarf)),columns=['Beard', 'Scarf'])\n",
    "new_input_pd"
   ]
  },
  {
   "cell_type": "code",
   "execution_count": 47,
   "id": "cf7a0d29",
   "metadata": {},
   "outputs": [
    {
     "data": {
      "text/html": [
       "<div>\n",
       "<style scoped>\n",
       "    .dataframe tbody tr th:only-of-type {\n",
       "        vertical-align: middle;\n",
       "    }\n",
       "\n",
       "    .dataframe tbody tr th {\n",
       "        vertical-align: top;\n",
       "    }\n",
       "\n",
       "    .dataframe thead th {\n",
       "        text-align: right;\n",
       "    }\n",
       "</style>\n",
       "<table border=\"1\" class=\"dataframe\">\n",
       "  <thead>\n",
       "    <tr style=\"text-align: right;\">\n",
       "      <th></th>\n",
       "      <th>gender</th>\n",
       "    </tr>\n",
       "  </thead>\n",
       "  <tbody>\n",
       "    <tr>\n",
       "      <th>0</th>\n",
       "      <td>1</td>\n",
       "    </tr>\n",
       "    <tr>\n",
       "      <th>1</th>\n",
       "      <td>1</td>\n",
       "    </tr>\n",
       "    <tr>\n",
       "      <th>2</th>\n",
       "      <td>0</td>\n",
       "    </tr>\n",
       "    <tr>\n",
       "      <th>3</th>\n",
       "      <td>0</td>\n",
       "    </tr>\n",
       "    <tr>\n",
       "      <th>4</th>\n",
       "      <td>1</td>\n",
       "    </tr>\n",
       "    <tr>\n",
       "      <th>...</th>\n",
       "      <td>...</td>\n",
       "    </tr>\n",
       "    <tr>\n",
       "      <th>75</th>\n",
       "      <td>0</td>\n",
       "    </tr>\n",
       "    <tr>\n",
       "      <th>76</th>\n",
       "      <td>0</td>\n",
       "    </tr>\n",
       "    <tr>\n",
       "      <th>77</th>\n",
       "      <td>1</td>\n",
       "    </tr>\n",
       "    <tr>\n",
       "      <th>78</th>\n",
       "      <td>1</td>\n",
       "    </tr>\n",
       "    <tr>\n",
       "      <th>79</th>\n",
       "      <td>0</td>\n",
       "    </tr>\n",
       "  </tbody>\n",
       "</table>\n",
       "<p>80 rows × 1 columns</p>\n",
       "</div>"
      ],
      "text/plain": [
       "    gender\n",
       "0        1\n",
       "1        1\n",
       "2        0\n",
       "3        0\n",
       "4        1\n",
       "..     ...\n",
       "75       0\n",
       "76       0\n",
       "77       1\n",
       "78       1\n",
       "79       0\n",
       "\n",
       "[80 rows x 1 columns]"
      ]
     },
     "execution_count": 47,
     "metadata": {},
     "output_type": "execute_result"
    }
   ],
   "source": [
    "output_pd = pd.DataFrame(output_column['gender'])\n",
    "output_pd"
   ]
  },
  {
   "cell_type": "code",
   "execution_count": 48,
   "id": "e9f5bb14",
   "metadata": {},
   "outputs": [],
   "source": [
    "#split the data\n",
    "X_train, x_test, Y_train, y_test = train_test_split(new_input_pd, output_column, test_size = 0.20, random_state = 1)"
   ]
  },
  {
   "cell_type": "markdown",
   "id": "cfa4986d",
   "metadata": {},
   "source": [
    "##### Random Forest Model"
   ]
  },
  {
   "cell_type": "code",
   "execution_count": null,
   "id": "4e21f03c",
   "metadata": {},
   "outputs": [],
   "source": [
    "#train the Random Forest using training data\n",
    "model_1.fit(X_train,Y_train)"
   ]
  },
  {
   "cell_type": "code",
   "execution_count": 51,
   "id": "7ae0884d",
   "metadata": {},
   "outputs": [],
   "source": [
    "#make prediction using the random forest classifier trained model\n",
    "prediction_1 = model_1.predict(x_test)"
   ]
  },
  {
   "cell_type": "code",
   "execution_count": 52,
   "id": "a378c265",
   "metadata": {},
   "outputs": [
    {
     "name": "stdout",
     "output_type": "stream",
     "text": [
      "93.75\n"
     ]
    }
   ],
   "source": [
    "#calcualte and print accuracy\n",
    "model_1_accuracy = accuracy_score(y_test, prediction_1)*100\n",
    "print(model_1_accuracy)"
   ]
  },
  {
   "cell_type": "code",
   "execution_count": 53,
   "id": "1a32fd0b",
   "metadata": {},
   "outputs": [
    {
     "name": "stdout",
     "output_type": "stream",
     "text": [
      "[[9 0]\n",
      " [1 6]]\n"
     ]
    }
   ],
   "source": [
    "#generate confusion matrix\n",
    "model_1_cm = metrics.confusion_matrix(y_test, prediction_1)\n",
    "print(model_1_cm)"
   ]
  },
  {
   "cell_type": "code",
   "execution_count": 54,
   "id": "48dd5b6d",
   "metadata": {},
   "outputs": [
    {
     "name": "stdout",
     "output_type": "stream",
     "text": [
      "              precision    recall  f1-score   support\n",
      "\n",
      "           0       0.90      1.00      0.95         9\n",
      "           1       1.00      0.86      0.92         7\n",
      "\n",
      "    accuracy                           0.94        16\n",
      "   macro avg       0.95      0.93      0.94        16\n",
      "weighted avg       0.94      0.94      0.94        16\n",
      "\n"
     ]
    }
   ],
   "source": [
    "model_cl_rep = metrics.classification_report(y_test, prediction_1)\n",
    "print(model_cl_rep)"
   ]
  },
  {
   "cell_type": "markdown",
   "id": "516e367d",
   "metadata": {},
   "source": [
    "##### Support Vector Machine Model"
   ]
  },
  {
   "cell_type": "code",
   "execution_count": null,
   "id": "66bb0af4",
   "metadata": {},
   "outputs": [],
   "source": [
    "#train the Random Forest using training data\n",
    "model_2.fit(X_train,Y_train)"
   ]
  },
  {
   "cell_type": "code",
   "execution_count": 56,
   "id": "c9f3438a",
   "metadata": {},
   "outputs": [],
   "source": [
    "#make prediction using the svc trained model\n",
    "prediction_2 = model_2.predict(x_test)"
   ]
  },
  {
   "cell_type": "code",
   "execution_count": 57,
   "id": "d7560ddc",
   "metadata": {},
   "outputs": [
    {
     "name": "stdout",
     "output_type": "stream",
     "text": [
      "93.75\n"
     ]
    }
   ],
   "source": [
    "#calcualte and print accuracy\n",
    "model_2_accuracy = accuracy_score(y_test, prediction_2)*100\n",
    "print(model_2_accuracy)"
   ]
  },
  {
   "cell_type": "code",
   "execution_count": 58,
   "id": "beaac98a",
   "metadata": {},
   "outputs": [
    {
     "name": "stdout",
     "output_type": "stream",
     "text": [
      "[[9 0]\n",
      " [1 6]]\n"
     ]
    }
   ],
   "source": [
    "#generate confusion matrix\n",
    "model_2_cm = metrics.confusion_matrix(y_test, prediction_2)\n",
    "print(model_2_cm)"
   ]
  },
  {
   "cell_type": "code",
   "execution_count": 59,
   "id": "218ebab9",
   "metadata": {},
   "outputs": [
    {
     "name": "stdout",
     "output_type": "stream",
     "text": [
      "              precision    recall  f1-score   support\n",
      "\n",
      "           0       0.90      1.00      0.95         9\n",
      "           1       1.00      0.86      0.92         7\n",
      "\n",
      "    accuracy                           0.94        16\n",
      "   macro avg       0.95      0.93      0.94        16\n",
      "weighted avg       0.94      0.94      0.94        16\n",
      "\n"
     ]
    }
   ],
   "source": [
    "model_cl_rep = metrics.classification_report(y_test, prediction_2)\n",
    "print(model_cl_rep)"
   ]
  },
  {
   "cell_type": "markdown",
   "id": "a1bec476",
   "metadata": {},
   "source": [
    "##### Multilayer Perceptron Model"
   ]
  },
  {
   "cell_type": "code",
   "execution_count": null,
   "id": "940e9b1b",
   "metadata": {},
   "outputs": [],
   "source": [
    "#train the Random Forest using training data\n",
    "model_3.fit(X_train,Y_train)"
   ]
  },
  {
   "cell_type": "code",
   "execution_count": 61,
   "id": "5ee87958",
   "metadata": {},
   "outputs": [],
   "source": [
    "#make prediction using the MLP trained model\n",
    "prediction_3 = model_3.predict(x_test)"
   ]
  },
  {
   "cell_type": "code",
   "execution_count": 62,
   "id": "d7c04b58",
   "metadata": {},
   "outputs": [
    {
     "name": "stdout",
     "output_type": "stream",
     "text": [
      "93.75\n"
     ]
    }
   ],
   "source": [
    "#calcualte and print accuracy\n",
    "model_3_accuracy = accuracy_score(y_test, prediction_3)*100\n",
    "print(model_3_accuracy)"
   ]
  },
  {
   "cell_type": "code",
   "execution_count": 63,
   "id": "9c2c2ca1",
   "metadata": {},
   "outputs": [
    {
     "name": "stdout",
     "output_type": "stream",
     "text": [
      "[[9 0]\n",
      " [1 6]]\n"
     ]
    }
   ],
   "source": [
    "#generate confusion matrix\n",
    "model_3_cm = metrics.confusion_matrix(y_test, prediction_3)\n",
    "print(model_3_cm)"
   ]
  },
  {
   "cell_type": "code",
   "execution_count": 64,
   "id": "d3c97783",
   "metadata": {},
   "outputs": [
    {
     "name": "stdout",
     "output_type": "stream",
     "text": [
      "              precision    recall  f1-score   support\n",
      "\n",
      "           0       0.90      1.00      0.95         9\n",
      "           1       1.00      0.86      0.92         7\n",
      "\n",
      "    accuracy                           0.94        16\n",
      "   macro avg       0.95      0.93      0.94        16\n",
      "weighted avg       0.94      0.94      0.94        16\n",
      "\n"
     ]
    }
   ],
   "source": [
    "model_cl_rep = metrics.classification_report(y_test, prediction_3)\n",
    "print(model_cl_rep)"
   ]
  },
  {
   "cell_type": "markdown",
   "id": "9df4ea73",
   "metadata": {},
   "source": [
    "### Question 3"
   ]
  },
  {
   "cell_type": "code",
   "execution_count": 65,
   "id": "45088cc5",
   "metadata": {},
   "outputs": [
    {
     "data": {
      "text/html": [
       "<div>\n",
       "<style scoped>\n",
       "    .dataframe tbody tr th:only-of-type {\n",
       "        vertical-align: middle;\n",
       "    }\n",
       "\n",
       "    .dataframe tbody tr th {\n",
       "        vertical-align: top;\n",
       "    }\n",
       "\n",
       "    .dataframe thead th {\n",
       "        text-align: right;\n",
       "    }\n",
       "</style>\n",
       "<table border=\"1\" class=\"dataframe\">\n",
       "  <thead>\n",
       "    <tr style=\"text-align: right;\">\n",
       "      <th></th>\n",
       "      <th>height</th>\n",
       "      <th>weight</th>\n",
       "      <th>beard</th>\n",
       "      <th>hair_length</th>\n",
       "      <th>shoe_size</th>\n",
       "      <th>scarf</th>\n",
       "      <th>eye_color</th>\n",
       "    </tr>\n",
       "  </thead>\n",
       "  <tbody>\n",
       "    <tr>\n",
       "      <th>0</th>\n",
       "      <td>71</td>\n",
       "      <td>176</td>\n",
       "      <td>1</td>\n",
       "      <td>3</td>\n",
       "      <td>44</td>\n",
       "      <td>0</td>\n",
       "      <td>0</td>\n",
       "    </tr>\n",
       "    <tr>\n",
       "      <th>1</th>\n",
       "      <td>68</td>\n",
       "      <td>165</td>\n",
       "      <td>0</td>\n",
       "      <td>0</td>\n",
       "      <td>41</td>\n",
       "      <td>0</td>\n",
       "      <td>0</td>\n",
       "    </tr>\n",
       "    <tr>\n",
       "      <th>2</th>\n",
       "      <td>62</td>\n",
       "      <td>132</td>\n",
       "      <td>0</td>\n",
       "      <td>2</td>\n",
       "      <td>37</td>\n",
       "      <td>1</td>\n",
       "      <td>1</td>\n",
       "    </tr>\n",
       "    <tr>\n",
       "      <th>3</th>\n",
       "      <td>65</td>\n",
       "      <td>138</td>\n",
       "      <td>0</td>\n",
       "      <td>1</td>\n",
       "      <td>38</td>\n",
       "      <td>0</td>\n",
       "      <td>3</td>\n",
       "    </tr>\n",
       "    <tr>\n",
       "      <th>4</th>\n",
       "      <td>70</td>\n",
       "      <td>197</td>\n",
       "      <td>1</td>\n",
       "      <td>2</td>\n",
       "      <td>43</td>\n",
       "      <td>0</td>\n",
       "      <td>3</td>\n",
       "    </tr>\n",
       "    <tr>\n",
       "      <th>...</th>\n",
       "      <td>...</td>\n",
       "      <td>...</td>\n",
       "      <td>...</td>\n",
       "      <td>...</td>\n",
       "      <td>...</td>\n",
       "      <td>...</td>\n",
       "      <td>...</td>\n",
       "    </tr>\n",
       "    <tr>\n",
       "      <th>75</th>\n",
       "      <td>65</td>\n",
       "      <td>99</td>\n",
       "      <td>0</td>\n",
       "      <td>3</td>\n",
       "      <td>39</td>\n",
       "      <td>1</td>\n",
       "      <td>4</td>\n",
       "    </tr>\n",
       "    <tr>\n",
       "      <th>76</th>\n",
       "      <td>61</td>\n",
       "      <td>98</td>\n",
       "      <td>0</td>\n",
       "      <td>3</td>\n",
       "      <td>37</td>\n",
       "      <td>0</td>\n",
       "      <td>2</td>\n",
       "    </tr>\n",
       "    <tr>\n",
       "      <th>77</th>\n",
       "      <td>67</td>\n",
       "      <td>119</td>\n",
       "      <td>1</td>\n",
       "      <td>3</td>\n",
       "      <td>40</td>\n",
       "      <td>0</td>\n",
       "      <td>0</td>\n",
       "    </tr>\n",
       "    <tr>\n",
       "      <th>78</th>\n",
       "      <td>70</td>\n",
       "      <td>190</td>\n",
       "      <td>1</td>\n",
       "      <td>2</td>\n",
       "      <td>43</td>\n",
       "      <td>0</td>\n",
       "      <td>3</td>\n",
       "    </tr>\n",
       "    <tr>\n",
       "      <th>79</th>\n",
       "      <td>62</td>\n",
       "      <td>142</td>\n",
       "      <td>1</td>\n",
       "      <td>1</td>\n",
       "      <td>37</td>\n",
       "      <td>0</td>\n",
       "      <td>1</td>\n",
       "    </tr>\n",
       "  </tbody>\n",
       "</table>\n",
       "<p>80 rows × 7 columns</p>\n",
       "</div>"
      ],
      "text/plain": [
       "    height  weight  beard  hair_length  shoe_size  scarf  eye_color\n",
       "0       71     176      1            3         44      0          0\n",
       "1       68     165      0            0         41      0          0\n",
       "2       62     132      0            2         37      1          1\n",
       "3       65     138      0            1         38      0          3\n",
       "4       70     197      1            2         43      0          3\n",
       "..     ...     ...    ...          ...        ...    ...        ...\n",
       "75      65      99      0            3         39      1          4\n",
       "76      61      98      0            3         37      0          2\n",
       "77      67     119      1            3         40      0          0\n",
       "78      70     190      1            2         43      0          3\n",
       "79      62     142      1            1         37      0          1\n",
       "\n",
       "[80 rows x 7 columns]"
      ]
     },
     "execution_count": 65,
     "metadata": {},
     "output_type": "execute_result"
    }
   ],
   "source": [
    "#input\n",
    "input_columns"
   ]
  },
  {
   "cell_type": "markdown",
   "id": "d8a8e70c",
   "metadata": {},
   "source": [
    "##### Decision Tree Model"
   ]
  },
  {
   "cell_type": "code",
   "execution_count": 66,
   "id": "a75658df",
   "metadata": {},
   "outputs": [],
   "source": [
    "model = DecisionTreeClassifier()"
   ]
  },
  {
   "cell_type": "markdown",
   "id": "d2a69456",
   "metadata": {},
   "source": [
    "##### Monte Carlo Cross Validation"
   ]
  },
  {
   "cell_type": "code",
   "execution_count": 67,
   "id": "ee77ebc4",
   "metadata": {},
   "outputs": [],
   "source": [
    "split=ShuffleSplit(n_splits=10,test_size=0.20,random_state=1)"
   ]
  },
  {
   "cell_type": "code",
   "execution_count": 68,
   "id": "8f6cbec0",
   "metadata": {},
   "outputs": [
    {
     "data": {
      "text/plain": [
       "0.969898728722258"
      ]
     },
     "execution_count": 68,
     "metadata": {},
     "output_type": "execute_result"
    }
   ],
   "source": [
    "#f1 score using monte carlo cross validation\n",
    "f1_score = cross_val_score(model, input_columns, output_column,scoring='f1', cv=split).mean()\n",
    "f1_score"
   ]
  },
  {
   "cell_type": "markdown",
   "id": "d35562b4",
   "metadata": {},
   "source": [
    "##### Leave p-out cross-validation"
   ]
  },
  {
   "cell_type": "code",
   "execution_count": 69,
   "id": "11507bef",
   "metadata": {},
   "outputs": [
    {
     "data": {
      "text/plain": [
       "82160"
      ]
     },
     "execution_count": 69,
     "metadata": {},
     "output_type": "execute_result"
    }
   ],
   "source": [
    "leave_pout = LeavePOut(p=3)  \n",
    "leave_pout.get_n_splits(input_columns)  "
   ]
  },
  {
   "cell_type": "code",
   "execution_count": null,
   "id": "87210a0e",
   "metadata": {},
   "outputs": [],
   "source": [
    "#f1 score using leave p-out cross validation\n",
    "f1_score = cross_val_score(model, input_columns, output_column,scoring='f1', cv=leave_pout).mean()\n"
   ]
  },
  {
   "cell_type": "code",
   "execution_count": 71,
   "id": "be709e8e",
   "metadata": {},
   "outputs": [
    {
     "data": {
      "text/plain": [
       "0.8733008763388511"
      ]
     },
     "execution_count": 71,
     "metadata": {},
     "output_type": "execute_result"
    }
   ],
   "source": [
    "f1_score"
   ]
  },
  {
   "cell_type": "markdown",
   "id": "751e3f05",
   "metadata": {},
   "source": [
    "### Question 4"
   ]
  },
  {
   "cell_type": "markdown",
   "id": "02593598",
   "metadata": {},
   "source": [
    "#### Read the dataset after adding 5 new instances"
   ]
  },
  {
   "cell_type": "code",
   "execution_count": 72,
   "id": "066abad3",
   "metadata": {},
   "outputs": [
    {
     "data": {
      "text/html": [
       "<div>\n",
       "<style scoped>\n",
       "    .dataframe tbody tr th:only-of-type {\n",
       "        vertical-align: middle;\n",
       "    }\n",
       "\n",
       "    .dataframe tbody tr th {\n",
       "        vertical-align: top;\n",
       "    }\n",
       "\n",
       "    .dataframe thead th {\n",
       "        text-align: right;\n",
       "    }\n",
       "</style>\n",
       "<table border=\"1\" class=\"dataframe\">\n",
       "  <thead>\n",
       "    <tr style=\"text-align: right;\">\n",
       "      <th></th>\n",
       "      <th>height</th>\n",
       "      <th>weight</th>\n",
       "      <th>beard</th>\n",
       "      <th>hair_length</th>\n",
       "      <th>shoe_size</th>\n",
       "      <th>scarf</th>\n",
       "      <th>eye_color</th>\n",
       "      <th>gender</th>\n",
       "    </tr>\n",
       "  </thead>\n",
       "  <tbody>\n",
       "    <tr>\n",
       "      <th>0</th>\n",
       "      <td>71</td>\n",
       "      <td>176</td>\n",
       "      <td>yes</td>\n",
       "      <td>short</td>\n",
       "      <td>44</td>\n",
       "      <td>no</td>\n",
       "      <td>black</td>\n",
       "      <td>male</td>\n",
       "    </tr>\n",
       "    <tr>\n",
       "      <th>1</th>\n",
       "      <td>68</td>\n",
       "      <td>165</td>\n",
       "      <td>no</td>\n",
       "      <td>bald</td>\n",
       "      <td>41</td>\n",
       "      <td>no</td>\n",
       "      <td>black</td>\n",
       "      <td>male</td>\n",
       "    </tr>\n",
       "    <tr>\n",
       "      <th>2</th>\n",
       "      <td>62</td>\n",
       "      <td>132</td>\n",
       "      <td>no</td>\n",
       "      <td>medium</td>\n",
       "      <td>37</td>\n",
       "      <td>yes</td>\n",
       "      <td>blue</td>\n",
       "      <td>female</td>\n",
       "    </tr>\n",
       "    <tr>\n",
       "      <th>3</th>\n",
       "      <td>65</td>\n",
       "      <td>138</td>\n",
       "      <td>no</td>\n",
       "      <td>long</td>\n",
       "      <td>38</td>\n",
       "      <td>no</td>\n",
       "      <td>gray</td>\n",
       "      <td>female</td>\n",
       "    </tr>\n",
       "    <tr>\n",
       "      <th>4</th>\n",
       "      <td>70</td>\n",
       "      <td>197</td>\n",
       "      <td>yes</td>\n",
       "      <td>medium</td>\n",
       "      <td>43</td>\n",
       "      <td>no</td>\n",
       "      <td>gray</td>\n",
       "      <td>male</td>\n",
       "    </tr>\n",
       "    <tr>\n",
       "      <th>...</th>\n",
       "      <td>...</td>\n",
       "      <td>...</td>\n",
       "      <td>...</td>\n",
       "      <td>...</td>\n",
       "      <td>...</td>\n",
       "      <td>...</td>\n",
       "      <td>...</td>\n",
       "      <td>...</td>\n",
       "    </tr>\n",
       "    <tr>\n",
       "      <th>80</th>\n",
       "      <td>72</td>\n",
       "      <td>69</td>\n",
       "      <td>no</td>\n",
       "      <td>short</td>\n",
       "      <td>42</td>\n",
       "      <td>no</td>\n",
       "      <td>brown</td>\n",
       "      <td>male</td>\n",
       "    </tr>\n",
       "    <tr>\n",
       "      <th>81</th>\n",
       "      <td>65</td>\n",
       "      <td>71</td>\n",
       "      <td>yes</td>\n",
       "      <td>short</td>\n",
       "      <td>39</td>\n",
       "      <td>no</td>\n",
       "      <td>black</td>\n",
       "      <td>male</td>\n",
       "    </tr>\n",
       "    <tr>\n",
       "      <th>82</th>\n",
       "      <td>57</td>\n",
       "      <td>47</td>\n",
       "      <td>no</td>\n",
       "      <td>long</td>\n",
       "      <td>37</td>\n",
       "      <td>yes</td>\n",
       "      <td>gray</td>\n",
       "      <td>female</td>\n",
       "    </tr>\n",
       "    <tr>\n",
       "      <th>83</th>\n",
       "      <td>68</td>\n",
       "      <td>83</td>\n",
       "      <td>yes</td>\n",
       "      <td>short</td>\n",
       "      <td>38</td>\n",
       "      <td>no</td>\n",
       "      <td>brown</td>\n",
       "      <td>male</td>\n",
       "    </tr>\n",
       "    <tr>\n",
       "      <th>84</th>\n",
       "      <td>62</td>\n",
       "      <td>50</td>\n",
       "      <td>no</td>\n",
       "      <td>medium</td>\n",
       "      <td>36</td>\n",
       "      <td>yes</td>\n",
       "      <td>black</td>\n",
       "      <td>female</td>\n",
       "    </tr>\n",
       "  </tbody>\n",
       "</table>\n",
       "<p>85 rows × 8 columns</p>\n",
       "</div>"
      ],
      "text/plain": [
       "    height  weight beard hair_length  shoe_size scarf eye_color  gender\n",
       "0       71     176   yes       short         44    no     black    male\n",
       "1       68     165    no        bald         41    no     black    male\n",
       "2       62     132    no      medium         37   yes      blue  female\n",
       "3       65     138    no        long         38    no      gray  female\n",
       "4       70     197   yes      medium         43    no      gray    male\n",
       "..     ...     ...   ...         ...        ...   ...       ...     ...\n",
       "80      72      69    no       short         42    no     brown    male\n",
       "81      65      71   yes       short         39    no     black    male\n",
       "82      57      47    no        long         37   yes      gray  female\n",
       "83      68      83   yes       short         38    no     brown    male\n",
       "84      62      50    no      medium         36   yes     black  female\n",
       "\n",
       "[85 rows x 8 columns]"
      ]
     },
     "execution_count": 72,
     "metadata": {},
     "output_type": "execute_result"
    }
   ],
   "source": [
    "#read CSV (dataset) file\n",
    "df_gender_updated = pd.read_csv('./gender-prediction-updated.csv')\n",
    "df_gender_updated"
   ]
  },
  {
   "cell_type": "code",
   "execution_count": 73,
   "id": "1ba08f23",
   "metadata": {},
   "outputs": [
    {
     "data": {
      "text/html": [
       "<div>\n",
       "<style scoped>\n",
       "    .dataframe tbody tr th:only-of-type {\n",
       "        vertical-align: middle;\n",
       "    }\n",
       "\n",
       "    .dataframe tbody tr th {\n",
       "        vertical-align: top;\n",
       "    }\n",
       "\n",
       "    .dataframe thead th {\n",
       "        text-align: right;\n",
       "    }\n",
       "</style>\n",
       "<table border=\"1\" class=\"dataframe\">\n",
       "  <thead>\n",
       "    <tr style=\"text-align: right;\">\n",
       "      <th></th>\n",
       "      <th>gender</th>\n",
       "    </tr>\n",
       "  </thead>\n",
       "  <tbody>\n",
       "    <tr>\n",
       "      <th>0</th>\n",
       "      <td>male</td>\n",
       "    </tr>\n",
       "    <tr>\n",
       "      <th>1</th>\n",
       "      <td>male</td>\n",
       "    </tr>\n",
       "    <tr>\n",
       "      <th>2</th>\n",
       "      <td>female</td>\n",
       "    </tr>\n",
       "    <tr>\n",
       "      <th>3</th>\n",
       "      <td>female</td>\n",
       "    </tr>\n",
       "    <tr>\n",
       "      <th>4</th>\n",
       "      <td>male</td>\n",
       "    </tr>\n",
       "    <tr>\n",
       "      <th>...</th>\n",
       "      <td>...</td>\n",
       "    </tr>\n",
       "    <tr>\n",
       "      <th>80</th>\n",
       "      <td>male</td>\n",
       "    </tr>\n",
       "    <tr>\n",
       "      <th>81</th>\n",
       "      <td>male</td>\n",
       "    </tr>\n",
       "    <tr>\n",
       "      <th>82</th>\n",
       "      <td>female</td>\n",
       "    </tr>\n",
       "    <tr>\n",
       "      <th>83</th>\n",
       "      <td>male</td>\n",
       "    </tr>\n",
       "    <tr>\n",
       "      <th>84</th>\n",
       "      <td>female</td>\n",
       "    </tr>\n",
       "  </tbody>\n",
       "</table>\n",
       "<p>85 rows × 1 columns</p>\n",
       "</div>"
      ],
      "text/plain": [
       "    gender\n",
       "0     male\n",
       "1     male\n",
       "2   female\n",
       "3   female\n",
       "4     male\n",
       "..     ...\n",
       "80    male\n",
       "81    male\n",
       "82  female\n",
       "83    male\n",
       "84  female\n",
       "\n",
       "[85 rows x 1 columns]"
      ]
     },
     "execution_count": 73,
     "metadata": {},
     "output_type": "execute_result"
    }
   ],
   "source": [
    "#seperate dependent (output) and independent (input) variables\n",
    "x = df_gender_updated.drop('gender', axis=1)\n",
    "y = pd.DataFrame(df_gender_updated['gender'])\n",
    "y"
   ]
  },
  {
   "cell_type": "code",
   "execution_count": 74,
   "id": "db05e843",
   "metadata": {},
   "outputs": [],
   "source": [
    "labels = preprocessing.LabelEncoder()"
   ]
  },
  {
   "cell_type": "code",
   "execution_count": 75,
   "id": "49a1bb8d",
   "metadata": {},
   "outputs": [
    {
     "data": {
      "text/html": [
       "<div>\n",
       "<style scoped>\n",
       "    .dataframe tbody tr th:only-of-type {\n",
       "        vertical-align: middle;\n",
       "    }\n",
       "\n",
       "    .dataframe tbody tr th {\n",
       "        vertical-align: top;\n",
       "    }\n",
       "\n",
       "    .dataframe thead th {\n",
       "        text-align: right;\n",
       "    }\n",
       "</style>\n",
       "<table border=\"1\" class=\"dataframe\">\n",
       "  <thead>\n",
       "    <tr style=\"text-align: right;\">\n",
       "      <th></th>\n",
       "      <th>gender</th>\n",
       "    </tr>\n",
       "  </thead>\n",
       "  <tbody>\n",
       "    <tr>\n",
       "      <th>0</th>\n",
       "      <td>1</td>\n",
       "    </tr>\n",
       "    <tr>\n",
       "      <th>1</th>\n",
       "      <td>1</td>\n",
       "    </tr>\n",
       "    <tr>\n",
       "      <th>2</th>\n",
       "      <td>0</td>\n",
       "    </tr>\n",
       "    <tr>\n",
       "      <th>3</th>\n",
       "      <td>0</td>\n",
       "    </tr>\n",
       "    <tr>\n",
       "      <th>4</th>\n",
       "      <td>1</td>\n",
       "    </tr>\n",
       "    <tr>\n",
       "      <th>...</th>\n",
       "      <td>...</td>\n",
       "    </tr>\n",
       "    <tr>\n",
       "      <th>80</th>\n",
       "      <td>1</td>\n",
       "    </tr>\n",
       "    <tr>\n",
       "      <th>81</th>\n",
       "      <td>1</td>\n",
       "    </tr>\n",
       "    <tr>\n",
       "      <th>82</th>\n",
       "      <td>0</td>\n",
       "    </tr>\n",
       "    <tr>\n",
       "      <th>83</th>\n",
       "      <td>1</td>\n",
       "    </tr>\n",
       "    <tr>\n",
       "      <th>84</th>\n",
       "      <td>0</td>\n",
       "    </tr>\n",
       "  </tbody>\n",
       "</table>\n",
       "<p>85 rows × 1 columns</p>\n",
       "</div>"
      ],
      "text/plain": [
       "    gender\n",
       "0        1\n",
       "1        1\n",
       "2        0\n",
       "3        0\n",
       "4        1\n",
       "..     ...\n",
       "80       1\n",
       "81       1\n",
       "82       0\n",
       "83       1\n",
       "84       0\n",
       "\n",
       "[85 rows x 1 columns]"
      ]
     },
     "execution_count": 75,
     "metadata": {},
     "output_type": "execute_result"
    }
   ],
   "source": [
    "#encodign the output\n",
    "y.gender = labels.fit_transform(y.gender)\n",
    "y"
   ]
  },
  {
   "cell_type": "code",
   "execution_count": 76,
   "id": "5d310a2c",
   "metadata": {},
   "outputs": [],
   "source": [
    "#encoding the categorical attribute of input\n",
    "x.beard = labels.fit_transform(x.beard)\n",
    "x.hair_length = labels.fit_transform(x.hair_length)\n",
    "x.scarf = labels.fit_transform(x.scarf)\n",
    "x.eye_color = labels.fit_transform(x.eye_color)"
   ]
  },
  {
   "cell_type": "markdown",
   "id": "c150d83b",
   "metadata": {},
   "source": [
    "#### Seperate the training data (80 instances) and testing data ( 5 instances)"
   ]
  },
  {
   "cell_type": "code",
   "execution_count": 77,
   "id": "1c61ac33",
   "metadata": {},
   "outputs": [],
   "source": [
    "#accessing a multiple records (rows) from the DataFrame using numerical index\n",
    "training = x.iloc[:80]\n",
    "training_output = y.iloc[:80]"
   ]
  },
  {
   "cell_type": "code",
   "execution_count": 78,
   "id": "9a79169e",
   "metadata": {},
   "outputs": [],
   "source": [
    "testing = x.iloc[80:]\n",
    "testing_output = y.iloc[80:]"
   ]
  },
  {
   "cell_type": "markdown",
   "id": "6541a251",
   "metadata": {},
   "source": [
    "##### Gausian Naive Bayes Model"
   ]
  },
  {
   "cell_type": "code",
   "execution_count": 79,
   "id": "d6115fea",
   "metadata": {},
   "outputs": [],
   "source": [
    "model = GaussianNB()\n"
   ]
  },
  {
   "cell_type": "code",
   "execution_count": null,
   "id": "2783b1b6",
   "metadata": {},
   "outputs": [],
   "source": [
    "model.fit(training,training_output)"
   ]
  },
  {
   "cell_type": "code",
   "execution_count": 81,
   "id": "e45ec5d6",
   "metadata": {},
   "outputs": [],
   "source": [
    "#make prediction using the gausian trained model\n",
    "predictions = model.predict(testing)"
   ]
  },
  {
   "cell_type": "code",
   "execution_count": 82,
   "id": "be8f1dc0",
   "metadata": {},
   "outputs": [
    {
     "name": "stdout",
     "output_type": "stream",
     "text": [
      "100.0\n"
     ]
    }
   ],
   "source": [
    "model_accuracy = accuracy_score(testing_output, predictions)*100\n",
    "print(model_accuracy)"
   ]
  },
  {
   "cell_type": "code",
   "execution_count": 83,
   "id": "4fc71c43",
   "metadata": {},
   "outputs": [
    {
     "data": {
      "text/plain": [
       "1.0"
      ]
     },
     "execution_count": 83,
     "metadata": {},
     "output_type": "execute_result"
    }
   ],
   "source": [
    "model_recall = recall_score(testing_output,predictions)\n",
    "model_recall"
   ]
  },
  {
   "cell_type": "code",
   "execution_count": 84,
   "id": "9ee47167",
   "metadata": {},
   "outputs": [
    {
     "data": {
      "text/plain": [
       "1.0"
      ]
     },
     "execution_count": 84,
     "metadata": {},
     "output_type": "execute_result"
    }
   ],
   "source": [
    "model_precision = precision_score(testing_output,predictions)\n",
    "model_precision"
   ]
  },
  {
   "cell_type": "code",
   "execution_count": null,
   "id": "2ad2b22b",
   "metadata": {},
   "outputs": [],
   "source": []
  }
 ],
 "metadata": {
  "kernelspec": {
   "display_name": "Python 3 (ipykernel)",
   "language": "python",
   "name": "python3"
  },
  "language_info": {
   "codemirror_mode": {
    "name": "ipython",
    "version": 3
   },
   "file_extension": ".py",
   "mimetype": "text/x-python",
   "name": "python",
   "nbconvert_exporter": "python",
   "pygments_lexer": "ipython3",
   "version": "3.9.12"
  }
 },
 "nbformat": 4,
 "nbformat_minor": 5
}
