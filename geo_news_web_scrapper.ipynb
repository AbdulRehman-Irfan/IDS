{
  "nbformat": 4,
  "nbformat_minor": 0,
  "metadata": {
    "colab": {
      "provenance": [],
      "collapsed_sections": []
    },
    "kernelspec": {
      "name": "python3",
      "display_name": "Python 3"
    },
    "language_info": {
      "name": "python"
    }
  },
  "cells": [
    {
      "cell_type": "code",
      "source": [
        "#import important libraries\n",
        "\n",
        "import requests\n",
        "from bs4 import BeautifulSoup"
      ],
      "metadata": {
        "id": "r7xG1MtdvjrI"
      },
      "execution_count": 1,
      "outputs": []
    },
    {
      "cell_type": "code",
      "source": [
        "response = requests.get(\"https://urdu.geo.tv/\")\n",
        "total_html = BeautifulSoup(response.content, 'html5lib')\n",
        "#print(total_html.prettify())\n",
        "\n",
        "target_div = total_html.find('ul', attrs={'data-vr-zone':'Home Top Stories Section'})\n",
        "#print(target_div.prettify())\n",
        "\n",
        "title_of_important_news = []\n",
        "\n",
        "for row in target_div.findAll('li'):\n",
        "  title_div = row.find('a', attrs={'data-event_action':'Top Story'})\n",
        "  #print(title_div)\n",
        "  title = title_div['title']\n",
        "  title_of_important_news.append(title)\n",
        "\n",
        "  #print(title);\n",
        "for i in title_of_important_news:\n",
        "  print(i)\n",
        " \n"
      ],
      "metadata": {
        "colab": {
          "base_uri": "https://localhost:8080/"
        },
        "id": "UkwlTpbqy42l",
        "outputId": "be43c3ee-5544-4f42-9b5a-3a78f9edd915"
      },
      "execution_count": 28,
      "outputs": [
        {
          "output_type": "stream",
          "name": "stdout",
          "text": [
            "شہرت کی بلندی پر اداکاری ترک کرنے والی بھارتی اداکارہ سڑکوں پر بھیک مانگنے لگیں\n",
            "بالی وڈ کے سینیئر اداکار چل بسے\n",
            "ڈبلیو ڈبلیو ای کی سابق خاتون ریسلر 30 سال کی عمر میں انتقال کر گئیں\n",
            "پاکستان سے ترکیہ، یورپ، برطانیہ اور امریکا جانیوالے مسافروں کیلئے بڑی خوشخبری \n",
            "ہدایتکار پر ہراسانی کا الزام لگانے والی بولڈ اداکارہ کا بالی وڈ چھوڑنے کا اعلان\n",
            "ملک میں سونا مہنگا اور چاندی سستی ہوگئی\n",
            "وہ بہترین فلم جس کی کہانی لوگوں کو بار بار دیکھنے پر مجبور کردیتی ہے\n",
            "ایشیا ٹی ٹوئنٹی ویمن کپ: 2016 کے بعد بھارت کو پاکستان کے ہاتھوں پہلی شکست\n"
          ]
        }
      ]
    }
  ]
}